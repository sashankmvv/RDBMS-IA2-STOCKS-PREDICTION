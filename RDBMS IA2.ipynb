{
 "metadata": {
  "language_info": {
   "codemirror_mode": {
    "name": "ipython",
    "version": 3
   },
   "file_extension": ".py",
   "mimetype": "text/x-python",
   "name": "python",
   "nbconvert_exporter": "python",
   "pygments_lexer": "ipython3",
   "version": "3.7.9"
  },
  "orig_nbformat": 2,
  "kernelspec": {
   "name": "python379jvsc74a57bd0517117eca8b7e0b1a7def8bd7daf2371acc35befdaa85e87a5e0374ecc4574b9",
   "display_name": "Python 3.7.9 64-bit ('myenv': conda)"
  }
 },
 "nbformat": 4,
 "nbformat_minor": 2,
 "cells": [
  {
   "cell_type": "code",
   "execution_count": 1,
   "metadata": {},
   "outputs": [],
   "source": [
    "import pandas as pd\n",
    "import numpy as np\n",
    "import seaborn as sns\n",
    "import matplotlib.pyplot as plt\n"
   ]
  },
  {
   "cell_type": "code",
   "execution_count": 2,
   "metadata": {},
   "outputs": [],
   "source": [
    "df=pd.read_csv(r\"C:\\Users\\Sashank\\Downloads\\RDBMS IA2 FOLDER\\HCLTECH.csv\")"
   ]
  },
  {
   "cell_type": "code",
   "execution_count": 3,
   "metadata": {},
   "outputs": [
    {
     "output_type": "execute_result",
     "data": {
      "text/plain": [
       "            Date   Symbol Series  Prev Close     Open     High      Low  \\\n",
       "0     2000-01-11  HCLTECH     EQ      580.00  1550.00  1725.00  1492.00   \n",
       "1     2000-01-12  HCLTECH     EQ     1554.45  1560.00  1678.85  1560.00   \n",
       "2     2000-01-13  HCLTECH     EQ     1678.85  1790.00  1813.20  1781.00   \n",
       "3     2000-01-14  HCLTECH     EQ     1813.20  1958.30  1958.30  1835.00   \n",
       "4     2000-01-17  HCLTECH     EQ     1958.30  2115.00  2115.00  1801.65   \n",
       "...          ...      ...    ...         ...      ...      ...      ...   \n",
       "5276  2021-03-24  HCLTECH     EQ      980.85   971.05   984.75   965.80   \n",
       "5277  2021-03-25  HCLTECH     EQ      975.65   970.00   974.50   950.00   \n",
       "5278  2021-03-26  HCLTECH     EQ      957.05   965.00   975.00   953.80   \n",
       "5279  2021-03-30  HCLTECH     EQ      958.55   965.00  1000.80   964.45   \n",
       "5280  2021-03-31  HCLTECH     EQ      995.80  1000.00  1000.00   978.65   \n",
       "\n",
       "         Last    Close     VWAP   Volume      Turnover    Trades  \\\n",
       "0     1560.00  1554.45  1582.72  1192200  1.886915e+14       NaN   \n",
       "1     1678.85  1678.85  1657.05   344850  5.714349e+13       NaN   \n",
       "2     1813.20  1813.20  1804.69    53000  9.564880e+12       NaN   \n",
       "3     1958.30  1958.30  1939.90   270950  5.256169e+13       NaN   \n",
       "4     1801.65  1801.65  1990.55   428800  8.535473e+13       NaN   \n",
       "...       ...      ...      ...      ...           ...       ...   \n",
       "5276   974.55   975.65   977.25  3874331  3.786179e+14   88387.0   \n",
       "5277   962.00   957.05   965.24  4879437  4.709829e+14  110892.0   \n",
       "5278   960.00   958.55   962.80  4271178  4.112272e+14   96782.0   \n",
       "5279   995.10   995.80   986.21  5475051  5.399551e+14  121367.0   \n",
       "5280   984.10   982.65   988.70  4445140  4.394923e+14   91412.0   \n",
       "\n",
       "      Deliverable Volume  %Deliverble  \n",
       "0                    NaN          NaN  \n",
       "1                    NaN          NaN  \n",
       "2                    NaN          NaN  \n",
       "3                    NaN          NaN  \n",
       "4                    NaN          NaN  \n",
       "...                  ...          ...  \n",
       "5276           1527159.0       0.3942  \n",
       "5277           2225205.0       0.4560  \n",
       "5278           2107168.0       0.4933  \n",
       "5279           2381501.0       0.4350  \n",
       "5280           1481223.0       0.3332  \n",
       "\n",
       "[5281 rows x 15 columns]"
      ],
      "text/html": "<div>\n<style scoped>\n    .dataframe tbody tr th:only-of-type {\n        vertical-align: middle;\n    }\n\n    .dataframe tbody tr th {\n        vertical-align: top;\n    }\n\n    .dataframe thead th {\n        text-align: right;\n    }\n</style>\n<table border=\"1\" class=\"dataframe\">\n  <thead>\n    <tr style=\"text-align: right;\">\n      <th></th>\n      <th>Date</th>\n      <th>Symbol</th>\n      <th>Series</th>\n      <th>Prev Close</th>\n      <th>Open</th>\n      <th>High</th>\n      <th>Low</th>\n      <th>Last</th>\n      <th>Close</th>\n      <th>VWAP</th>\n      <th>Volume</th>\n      <th>Turnover</th>\n      <th>Trades</th>\n      <th>Deliverable Volume</th>\n      <th>%Deliverble</th>\n    </tr>\n  </thead>\n  <tbody>\n    <tr>\n      <th>0</th>\n      <td>2000-01-11</td>\n      <td>HCLTECH</td>\n      <td>EQ</td>\n      <td>580.00</td>\n      <td>1550.00</td>\n      <td>1725.00</td>\n      <td>1492.00</td>\n      <td>1560.00</td>\n      <td>1554.45</td>\n      <td>1582.72</td>\n      <td>1192200</td>\n      <td>1.886915e+14</td>\n      <td>NaN</td>\n      <td>NaN</td>\n      <td>NaN</td>\n    </tr>\n    <tr>\n      <th>1</th>\n      <td>2000-01-12</td>\n      <td>HCLTECH</td>\n      <td>EQ</td>\n      <td>1554.45</td>\n      <td>1560.00</td>\n      <td>1678.85</td>\n      <td>1560.00</td>\n      <td>1678.85</td>\n      <td>1678.85</td>\n      <td>1657.05</td>\n      <td>344850</td>\n      <td>5.714349e+13</td>\n      <td>NaN</td>\n      <td>NaN</td>\n      <td>NaN</td>\n    </tr>\n    <tr>\n      <th>2</th>\n      <td>2000-01-13</td>\n      <td>HCLTECH</td>\n      <td>EQ</td>\n      <td>1678.85</td>\n      <td>1790.00</td>\n      <td>1813.20</td>\n      <td>1781.00</td>\n      <td>1813.20</td>\n      <td>1813.20</td>\n      <td>1804.69</td>\n      <td>53000</td>\n      <td>9.564880e+12</td>\n      <td>NaN</td>\n      <td>NaN</td>\n      <td>NaN</td>\n    </tr>\n    <tr>\n      <th>3</th>\n      <td>2000-01-14</td>\n      <td>HCLTECH</td>\n      <td>EQ</td>\n      <td>1813.20</td>\n      <td>1958.30</td>\n      <td>1958.30</td>\n      <td>1835.00</td>\n      <td>1958.30</td>\n      <td>1958.30</td>\n      <td>1939.90</td>\n      <td>270950</td>\n      <td>5.256169e+13</td>\n      <td>NaN</td>\n      <td>NaN</td>\n      <td>NaN</td>\n    </tr>\n    <tr>\n      <th>4</th>\n      <td>2000-01-17</td>\n      <td>HCLTECH</td>\n      <td>EQ</td>\n      <td>1958.30</td>\n      <td>2115.00</td>\n      <td>2115.00</td>\n      <td>1801.65</td>\n      <td>1801.65</td>\n      <td>1801.65</td>\n      <td>1990.55</td>\n      <td>428800</td>\n      <td>8.535473e+13</td>\n      <td>NaN</td>\n      <td>NaN</td>\n      <td>NaN</td>\n    </tr>\n    <tr>\n      <th>...</th>\n      <td>...</td>\n      <td>...</td>\n      <td>...</td>\n      <td>...</td>\n      <td>...</td>\n      <td>...</td>\n      <td>...</td>\n      <td>...</td>\n      <td>...</td>\n      <td>...</td>\n      <td>...</td>\n      <td>...</td>\n      <td>...</td>\n      <td>...</td>\n      <td>...</td>\n    </tr>\n    <tr>\n      <th>5276</th>\n      <td>2021-03-24</td>\n      <td>HCLTECH</td>\n      <td>EQ</td>\n      <td>980.85</td>\n      <td>971.05</td>\n      <td>984.75</td>\n      <td>965.80</td>\n      <td>974.55</td>\n      <td>975.65</td>\n      <td>977.25</td>\n      <td>3874331</td>\n      <td>3.786179e+14</td>\n      <td>88387.0</td>\n      <td>1527159.0</td>\n      <td>0.3942</td>\n    </tr>\n    <tr>\n      <th>5277</th>\n      <td>2021-03-25</td>\n      <td>HCLTECH</td>\n      <td>EQ</td>\n      <td>975.65</td>\n      <td>970.00</td>\n      <td>974.50</td>\n      <td>950.00</td>\n      <td>962.00</td>\n      <td>957.05</td>\n      <td>965.24</td>\n      <td>4879437</td>\n      <td>4.709829e+14</td>\n      <td>110892.0</td>\n      <td>2225205.0</td>\n      <td>0.4560</td>\n    </tr>\n    <tr>\n      <th>5278</th>\n      <td>2021-03-26</td>\n      <td>HCLTECH</td>\n      <td>EQ</td>\n      <td>957.05</td>\n      <td>965.00</td>\n      <td>975.00</td>\n      <td>953.80</td>\n      <td>960.00</td>\n      <td>958.55</td>\n      <td>962.80</td>\n      <td>4271178</td>\n      <td>4.112272e+14</td>\n      <td>96782.0</td>\n      <td>2107168.0</td>\n      <td>0.4933</td>\n    </tr>\n    <tr>\n      <th>5279</th>\n      <td>2021-03-30</td>\n      <td>HCLTECH</td>\n      <td>EQ</td>\n      <td>958.55</td>\n      <td>965.00</td>\n      <td>1000.80</td>\n      <td>964.45</td>\n      <td>995.10</td>\n      <td>995.80</td>\n      <td>986.21</td>\n      <td>5475051</td>\n      <td>5.399551e+14</td>\n      <td>121367.0</td>\n      <td>2381501.0</td>\n      <td>0.4350</td>\n    </tr>\n    <tr>\n      <th>5280</th>\n      <td>2021-03-31</td>\n      <td>HCLTECH</td>\n      <td>EQ</td>\n      <td>995.80</td>\n      <td>1000.00</td>\n      <td>1000.00</td>\n      <td>978.65</td>\n      <td>984.10</td>\n      <td>982.65</td>\n      <td>988.70</td>\n      <td>4445140</td>\n      <td>4.394923e+14</td>\n      <td>91412.0</td>\n      <td>1481223.0</td>\n      <td>0.3332</td>\n    </tr>\n  </tbody>\n</table>\n<p>5281 rows × 15 columns</p>\n</div>"
     },
     "metadata": {},
     "execution_count": 3
    }
   ],
   "source": [
    "df"
   ]
  },
  {
   "cell_type": "code",
   "execution_count": 4,
   "metadata": {},
   "outputs": [
    {
     "output_type": "execute_result",
     "data": {
      "text/plain": [
       "        Prev Close         Open         High          Low         Last  \\\n",
       "count  5281.000000  5281.000000  5281.000000  5281.000000  5281.000000   \n",
       "mean    640.877485   641.782361   653.029445   629.240598   641.018273   \n",
       "std     411.875435   413.427497   420.474999   404.537288   411.964913   \n",
       "min      89.700000    87.100000    94.750000    86.650000    89.000000   \n",
       "25%     313.700000   315.000000   322.000000   307.500000   314.000000   \n",
       "50%     528.750000   529.800000   540.000000   518.600000   530.000000   \n",
       "75%     890.650000   889.000000   903.000000   878.100000   890.650000   \n",
       "max    2819.150000  2825.000000  2998.000000  2760.500000  2805.000000   \n",
       "\n",
       "             Close         VWAP        Volume      Turnover         Trades  \\\n",
       "count  5281.000000  5281.000000  5.281000e+03  5.281000e+03    2437.000000   \n",
       "mean    640.953730   641.276230  1.625228e+06  1.054017e+14   64435.360689   \n",
       "std     411.901431   412.224647  2.155855e+06  1.673140e+14   45992.452295   \n",
       "min      89.700000    91.440000  8.500000e+02  5.092228e+10     482.000000   \n",
       "25%     313.700000   314.500000  5.898370e+05  2.164816e+13   35730.000000   \n",
       "50%     528.750000   529.800000  1.033819e+06  4.779557e+13   54897.000000   \n",
       "75%     890.650000   892.000000  1.762759e+06  1.297174e+14   80034.000000   \n",
       "max    2819.150000  2883.950000  3.231253e+07  2.532038e+15  463474.000000   \n",
       "\n",
       "       Deliverable Volume  %Deliverble  \n",
       "count        4.778000e+03  4778.000000  \n",
       "mean         8.050057e+05     0.504501  \n",
       "std          9.223569e+05     0.177329  \n",
       "min          3.095000e+03     0.045600  \n",
       "25%          2.664718e+05     0.380000  \n",
       "50%          5.344080e+05     0.529950  \n",
       "75%          9.758938e+05     0.636300  \n",
       "max          1.973903e+07     1.000000  "
      ],
      "text/html": "<div>\n<style scoped>\n    .dataframe tbody tr th:only-of-type {\n        vertical-align: middle;\n    }\n\n    .dataframe tbody tr th {\n        vertical-align: top;\n    }\n\n    .dataframe thead th {\n        text-align: right;\n    }\n</style>\n<table border=\"1\" class=\"dataframe\">\n  <thead>\n    <tr style=\"text-align: right;\">\n      <th></th>\n      <th>Prev Close</th>\n      <th>Open</th>\n      <th>High</th>\n      <th>Low</th>\n      <th>Last</th>\n      <th>Close</th>\n      <th>VWAP</th>\n      <th>Volume</th>\n      <th>Turnover</th>\n      <th>Trades</th>\n      <th>Deliverable Volume</th>\n      <th>%Deliverble</th>\n    </tr>\n  </thead>\n  <tbody>\n    <tr>\n      <th>count</th>\n      <td>5281.000000</td>\n      <td>5281.000000</td>\n      <td>5281.000000</td>\n      <td>5281.000000</td>\n      <td>5281.000000</td>\n      <td>5281.000000</td>\n      <td>5281.000000</td>\n      <td>5.281000e+03</td>\n      <td>5.281000e+03</td>\n      <td>2437.000000</td>\n      <td>4.778000e+03</td>\n      <td>4778.000000</td>\n    </tr>\n    <tr>\n      <th>mean</th>\n      <td>640.877485</td>\n      <td>641.782361</td>\n      <td>653.029445</td>\n      <td>629.240598</td>\n      <td>641.018273</td>\n      <td>640.953730</td>\n      <td>641.276230</td>\n      <td>1.625228e+06</td>\n      <td>1.054017e+14</td>\n      <td>64435.360689</td>\n      <td>8.050057e+05</td>\n      <td>0.504501</td>\n    </tr>\n    <tr>\n      <th>std</th>\n      <td>411.875435</td>\n      <td>413.427497</td>\n      <td>420.474999</td>\n      <td>404.537288</td>\n      <td>411.964913</td>\n      <td>411.901431</td>\n      <td>412.224647</td>\n      <td>2.155855e+06</td>\n      <td>1.673140e+14</td>\n      <td>45992.452295</td>\n      <td>9.223569e+05</td>\n      <td>0.177329</td>\n    </tr>\n    <tr>\n      <th>min</th>\n      <td>89.700000</td>\n      <td>87.100000</td>\n      <td>94.750000</td>\n      <td>86.650000</td>\n      <td>89.000000</td>\n      <td>89.700000</td>\n      <td>91.440000</td>\n      <td>8.500000e+02</td>\n      <td>5.092228e+10</td>\n      <td>482.000000</td>\n      <td>3.095000e+03</td>\n      <td>0.045600</td>\n    </tr>\n    <tr>\n      <th>25%</th>\n      <td>313.700000</td>\n      <td>315.000000</td>\n      <td>322.000000</td>\n      <td>307.500000</td>\n      <td>314.000000</td>\n      <td>313.700000</td>\n      <td>314.500000</td>\n      <td>5.898370e+05</td>\n      <td>2.164816e+13</td>\n      <td>35730.000000</td>\n      <td>2.664718e+05</td>\n      <td>0.380000</td>\n    </tr>\n    <tr>\n      <th>50%</th>\n      <td>528.750000</td>\n      <td>529.800000</td>\n      <td>540.000000</td>\n      <td>518.600000</td>\n      <td>530.000000</td>\n      <td>528.750000</td>\n      <td>529.800000</td>\n      <td>1.033819e+06</td>\n      <td>4.779557e+13</td>\n      <td>54897.000000</td>\n      <td>5.344080e+05</td>\n      <td>0.529950</td>\n    </tr>\n    <tr>\n      <th>75%</th>\n      <td>890.650000</td>\n      <td>889.000000</td>\n      <td>903.000000</td>\n      <td>878.100000</td>\n      <td>890.650000</td>\n      <td>890.650000</td>\n      <td>892.000000</td>\n      <td>1.762759e+06</td>\n      <td>1.297174e+14</td>\n      <td>80034.000000</td>\n      <td>9.758938e+05</td>\n      <td>0.636300</td>\n    </tr>\n    <tr>\n      <th>max</th>\n      <td>2819.150000</td>\n      <td>2825.000000</td>\n      <td>2998.000000</td>\n      <td>2760.500000</td>\n      <td>2805.000000</td>\n      <td>2819.150000</td>\n      <td>2883.950000</td>\n      <td>3.231253e+07</td>\n      <td>2.532038e+15</td>\n      <td>463474.000000</td>\n      <td>1.973903e+07</td>\n      <td>1.000000</td>\n    </tr>\n  </tbody>\n</table>\n</div>"
     },
     "metadata": {},
     "execution_count": 4
    }
   ],
   "source": [
    "df.describe()"
   ]
  },
  {
   "cell_type": "code",
   "execution_count": 5,
   "metadata": {},
   "outputs": [
    {
     "output_type": "stream",
     "name": "stdout",
     "text": [
      "<class 'pandas.core.frame.DataFrame'>\nRangeIndex: 5281 entries, 0 to 5280\nData columns (total 15 columns):\n #   Column              Non-Null Count  Dtype  \n---  ------              --------------  -----  \n 0   Date                5281 non-null   object \n 1   Symbol              5281 non-null   object \n 2   Series              5281 non-null   object \n 3   Prev Close          5281 non-null   float64\n 4   Open                5281 non-null   float64\n 5   High                5281 non-null   float64\n 6   Low                 5281 non-null   float64\n 7   Last                5281 non-null   float64\n 8   Close               5281 non-null   float64\n 9   VWAP                5281 non-null   float64\n 10  Volume              5281 non-null   int64  \n 11  Turnover            5281 non-null   float64\n 12  Trades              2437 non-null   float64\n 13  Deliverable Volume  4778 non-null   float64\n 14  %Deliverble         4778 non-null   float64\ndtypes: float64(11), int64(1), object(3)\nmemory usage: 619.0+ KB\n"
     ]
    }
   ],
   "source": [
    "df.info()"
   ]
  },
  {
   "cell_type": "code",
   "execution_count": 6,
   "metadata": {},
   "outputs": [
    {
     "output_type": "execute_result",
     "data": {
      "text/plain": [
       "Index(['Date', 'Symbol', 'Series', 'Prev Close', 'Open', 'High', 'Low', 'Last',\n",
       "       'Close', 'VWAP', 'Volume', 'Turnover', 'Trades', 'Deliverable Volume',\n",
       "       '%Deliverble'],\n",
       "      dtype='object')"
      ]
     },
     "metadata": {},
     "execution_count": 6
    }
   ],
   "source": [
    "df.columns"
   ]
  },
  {
   "cell_type": "code",
   "execution_count": 7,
   "metadata": {},
   "outputs": [],
   "source": [
    "columns=['Date','Open', 'High', 'Low','Close',]\n",
    "df=df[columns]"
   ]
  },
  {
   "cell_type": "code",
   "execution_count": 8,
   "metadata": {},
   "outputs": [
    {
     "output_type": "execute_result",
     "data": {
      "text/plain": [
       "            Date     Open     High      Low    Close\n",
       "0     2000-01-11  1550.00  1725.00  1492.00  1554.45\n",
       "1     2000-01-12  1560.00  1678.85  1560.00  1678.85\n",
       "2     2000-01-13  1790.00  1813.20  1781.00  1813.20\n",
       "3     2000-01-14  1958.30  1958.30  1835.00  1958.30\n",
       "4     2000-01-17  2115.00  2115.00  1801.65  1801.65\n",
       "...          ...      ...      ...      ...      ...\n",
       "5276  2021-03-24   971.05   984.75   965.80   975.65\n",
       "5277  2021-03-25   970.00   974.50   950.00   957.05\n",
       "5278  2021-03-26   965.00   975.00   953.80   958.55\n",
       "5279  2021-03-30   965.00  1000.80   964.45   995.80\n",
       "5280  2021-03-31  1000.00  1000.00   978.65   982.65\n",
       "\n",
       "[5281 rows x 5 columns]"
      ],
      "text/html": "<div>\n<style scoped>\n    .dataframe tbody tr th:only-of-type {\n        vertical-align: middle;\n    }\n\n    .dataframe tbody tr th {\n        vertical-align: top;\n    }\n\n    .dataframe thead th {\n        text-align: right;\n    }\n</style>\n<table border=\"1\" class=\"dataframe\">\n  <thead>\n    <tr style=\"text-align: right;\">\n      <th></th>\n      <th>Date</th>\n      <th>Open</th>\n      <th>High</th>\n      <th>Low</th>\n      <th>Close</th>\n    </tr>\n  </thead>\n  <tbody>\n    <tr>\n      <th>0</th>\n      <td>2000-01-11</td>\n      <td>1550.00</td>\n      <td>1725.00</td>\n      <td>1492.00</td>\n      <td>1554.45</td>\n    </tr>\n    <tr>\n      <th>1</th>\n      <td>2000-01-12</td>\n      <td>1560.00</td>\n      <td>1678.85</td>\n      <td>1560.00</td>\n      <td>1678.85</td>\n    </tr>\n    <tr>\n      <th>2</th>\n      <td>2000-01-13</td>\n      <td>1790.00</td>\n      <td>1813.20</td>\n      <td>1781.00</td>\n      <td>1813.20</td>\n    </tr>\n    <tr>\n      <th>3</th>\n      <td>2000-01-14</td>\n      <td>1958.30</td>\n      <td>1958.30</td>\n      <td>1835.00</td>\n      <td>1958.30</td>\n    </tr>\n    <tr>\n      <th>4</th>\n      <td>2000-01-17</td>\n      <td>2115.00</td>\n      <td>2115.00</td>\n      <td>1801.65</td>\n      <td>1801.65</td>\n    </tr>\n    <tr>\n      <th>...</th>\n      <td>...</td>\n      <td>...</td>\n      <td>...</td>\n      <td>...</td>\n      <td>...</td>\n    </tr>\n    <tr>\n      <th>5276</th>\n      <td>2021-03-24</td>\n      <td>971.05</td>\n      <td>984.75</td>\n      <td>965.80</td>\n      <td>975.65</td>\n    </tr>\n    <tr>\n      <th>5277</th>\n      <td>2021-03-25</td>\n      <td>970.00</td>\n      <td>974.50</td>\n      <td>950.00</td>\n      <td>957.05</td>\n    </tr>\n    <tr>\n      <th>5278</th>\n      <td>2021-03-26</td>\n      <td>965.00</td>\n      <td>975.00</td>\n      <td>953.80</td>\n      <td>958.55</td>\n    </tr>\n    <tr>\n      <th>5279</th>\n      <td>2021-03-30</td>\n      <td>965.00</td>\n      <td>1000.80</td>\n      <td>964.45</td>\n      <td>995.80</td>\n    </tr>\n    <tr>\n      <th>5280</th>\n      <td>2021-03-31</td>\n      <td>1000.00</td>\n      <td>1000.00</td>\n      <td>978.65</td>\n      <td>982.65</td>\n    </tr>\n  </tbody>\n</table>\n<p>5281 rows × 5 columns</p>\n</div>"
     },
     "metadata": {},
     "execution_count": 8
    }
   ],
   "source": [
    "df"
   ]
  },
  {
   "source": [
    "INSERTNG TECHNICAL INDICATORS"
   ],
   "cell_type": "markdown",
   "metadata": {}
  },
  {
   "cell_type": "code",
   "execution_count": 9,
   "metadata": {},
   "outputs": [],
   "source": [
    "df.insert(5,'5-DAY_SMA',0)\n",
    "df.insert(6,'14-DAY_WMA',0)\n",
    "df.insert(7,'Momentum',0)\n",
    "df.insert(8,'Stochastic K%',0)\n",
    "df.insert(9,'Stochastic D%',0)\n",
    "df.insert(10,'Relative_strength_index',0)\n",
    "df.insert(11,'Signal(10)',0)\n",
    "df.insert(12,'Larry_William_R%',0)\n",
    "df.insert(13,'ADO',0)\n",
    "df.insert(14,'CCI',0)\n",
    "\n",
    "\n"
   ]
  },
  {
   "cell_type": "code",
   "execution_count": 10,
   "metadata": {},
   "outputs": [
    {
     "output_type": "execute_result",
     "data": {
      "text/plain": [
       "            Date     Open     High      Low    Close  5-DAY_SMA  14-DAY_WMA  \\\n",
       "0     2000-01-11  1550.00  1725.00  1492.00  1554.45          0           0   \n",
       "1     2000-01-12  1560.00  1678.85  1560.00  1678.85          0           0   \n",
       "2     2000-01-13  1790.00  1813.20  1781.00  1813.20          0           0   \n",
       "3     2000-01-14  1958.30  1958.30  1835.00  1958.30          0           0   \n",
       "4     2000-01-17  2115.00  2115.00  1801.65  1801.65          0           0   \n",
       "...          ...      ...      ...      ...      ...        ...         ...   \n",
       "5276  2021-03-24   971.05   984.75   965.80   975.65          0           0   \n",
       "5277  2021-03-25   970.00   974.50   950.00   957.05          0           0   \n",
       "5278  2021-03-26   965.00   975.00   953.80   958.55          0           0   \n",
       "5279  2021-03-30   965.00  1000.80   964.45   995.80          0           0   \n",
       "5280  2021-03-31  1000.00  1000.00   978.65   982.65          0           0   \n",
       "\n",
       "      Momentum  Stochastic K%  Stochastic D%  Relative_strength_index  \\\n",
       "0            0              0              0                        0   \n",
       "1            0              0              0                        0   \n",
       "2            0              0              0                        0   \n",
       "3            0              0              0                        0   \n",
       "4            0              0              0                        0   \n",
       "...        ...            ...            ...                      ...   \n",
       "5276         0              0              0                        0   \n",
       "5277         0              0              0                        0   \n",
       "5278         0              0              0                        0   \n",
       "5279         0              0              0                        0   \n",
       "5280         0              0              0                        0   \n",
       "\n",
       "      Signal(10)  Larry_William_R%  ADO  CCI  \n",
       "0              0                 0    0    0  \n",
       "1              0                 0    0    0  \n",
       "2              0                 0    0    0  \n",
       "3              0                 0    0    0  \n",
       "4              0                 0    0    0  \n",
       "...          ...               ...  ...  ...  \n",
       "5276           0                 0    0    0  \n",
       "5277           0                 0    0    0  \n",
       "5278           0                 0    0    0  \n",
       "5279           0                 0    0    0  \n",
       "5280           0                 0    0    0  \n",
       "\n",
       "[5281 rows x 15 columns]"
      ],
      "text/html": "<div>\n<style scoped>\n    .dataframe tbody tr th:only-of-type {\n        vertical-align: middle;\n    }\n\n    .dataframe tbody tr th {\n        vertical-align: top;\n    }\n\n    .dataframe thead th {\n        text-align: right;\n    }\n</style>\n<table border=\"1\" class=\"dataframe\">\n  <thead>\n    <tr style=\"text-align: right;\">\n      <th></th>\n      <th>Date</th>\n      <th>Open</th>\n      <th>High</th>\n      <th>Low</th>\n      <th>Close</th>\n      <th>5-DAY_SMA</th>\n      <th>14-DAY_WMA</th>\n      <th>Momentum</th>\n      <th>Stochastic K%</th>\n      <th>Stochastic D%</th>\n      <th>Relative_strength_index</th>\n      <th>Signal(10)</th>\n      <th>Larry_William_R%</th>\n      <th>ADO</th>\n      <th>CCI</th>\n    </tr>\n  </thead>\n  <tbody>\n    <tr>\n      <th>0</th>\n      <td>2000-01-11</td>\n      <td>1550.00</td>\n      <td>1725.00</td>\n      <td>1492.00</td>\n      <td>1554.45</td>\n      <td>0</td>\n      <td>0</td>\n      <td>0</td>\n      <td>0</td>\n      <td>0</td>\n      <td>0</td>\n      <td>0</td>\n      <td>0</td>\n      <td>0</td>\n      <td>0</td>\n    </tr>\n    <tr>\n      <th>1</th>\n      <td>2000-01-12</td>\n      <td>1560.00</td>\n      <td>1678.85</td>\n      <td>1560.00</td>\n      <td>1678.85</td>\n      <td>0</td>\n      <td>0</td>\n      <td>0</td>\n      <td>0</td>\n      <td>0</td>\n      <td>0</td>\n      <td>0</td>\n      <td>0</td>\n      <td>0</td>\n      <td>0</td>\n    </tr>\n    <tr>\n      <th>2</th>\n      <td>2000-01-13</td>\n      <td>1790.00</td>\n      <td>1813.20</td>\n      <td>1781.00</td>\n      <td>1813.20</td>\n      <td>0</td>\n      <td>0</td>\n      <td>0</td>\n      <td>0</td>\n      <td>0</td>\n      <td>0</td>\n      <td>0</td>\n      <td>0</td>\n      <td>0</td>\n      <td>0</td>\n    </tr>\n    <tr>\n      <th>3</th>\n      <td>2000-01-14</td>\n      <td>1958.30</td>\n      <td>1958.30</td>\n      <td>1835.00</td>\n      <td>1958.30</td>\n      <td>0</td>\n      <td>0</td>\n      <td>0</td>\n      <td>0</td>\n      <td>0</td>\n      <td>0</td>\n      <td>0</td>\n      <td>0</td>\n      <td>0</td>\n      <td>0</td>\n    </tr>\n    <tr>\n      <th>4</th>\n      <td>2000-01-17</td>\n      <td>2115.00</td>\n      <td>2115.00</td>\n      <td>1801.65</td>\n      <td>1801.65</td>\n      <td>0</td>\n      <td>0</td>\n      <td>0</td>\n      <td>0</td>\n      <td>0</td>\n      <td>0</td>\n      <td>0</td>\n      <td>0</td>\n      <td>0</td>\n      <td>0</td>\n    </tr>\n    <tr>\n      <th>...</th>\n      <td>...</td>\n      <td>...</td>\n      <td>...</td>\n      <td>...</td>\n      <td>...</td>\n      <td>...</td>\n      <td>...</td>\n      <td>...</td>\n      <td>...</td>\n      <td>...</td>\n      <td>...</td>\n      <td>...</td>\n      <td>...</td>\n      <td>...</td>\n      <td>...</td>\n    </tr>\n    <tr>\n      <th>5276</th>\n      <td>2021-03-24</td>\n      <td>971.05</td>\n      <td>984.75</td>\n      <td>965.80</td>\n      <td>975.65</td>\n      <td>0</td>\n      <td>0</td>\n      <td>0</td>\n      <td>0</td>\n      <td>0</td>\n      <td>0</td>\n      <td>0</td>\n      <td>0</td>\n      <td>0</td>\n      <td>0</td>\n    </tr>\n    <tr>\n      <th>5277</th>\n      <td>2021-03-25</td>\n      <td>970.00</td>\n      <td>974.50</td>\n      <td>950.00</td>\n      <td>957.05</td>\n      <td>0</td>\n      <td>0</td>\n      <td>0</td>\n      <td>0</td>\n      <td>0</td>\n      <td>0</td>\n      <td>0</td>\n      <td>0</td>\n      <td>0</td>\n      <td>0</td>\n    </tr>\n    <tr>\n      <th>5278</th>\n      <td>2021-03-26</td>\n      <td>965.00</td>\n      <td>975.00</td>\n      <td>953.80</td>\n      <td>958.55</td>\n      <td>0</td>\n      <td>0</td>\n      <td>0</td>\n      <td>0</td>\n      <td>0</td>\n      <td>0</td>\n      <td>0</td>\n      <td>0</td>\n      <td>0</td>\n      <td>0</td>\n    </tr>\n    <tr>\n      <th>5279</th>\n      <td>2021-03-30</td>\n      <td>965.00</td>\n      <td>1000.80</td>\n      <td>964.45</td>\n      <td>995.80</td>\n      <td>0</td>\n      <td>0</td>\n      <td>0</td>\n      <td>0</td>\n      <td>0</td>\n      <td>0</td>\n      <td>0</td>\n      <td>0</td>\n      <td>0</td>\n      <td>0</td>\n    </tr>\n    <tr>\n      <th>5280</th>\n      <td>2021-03-31</td>\n      <td>1000.00</td>\n      <td>1000.00</td>\n      <td>978.65</td>\n      <td>982.65</td>\n      <td>0</td>\n      <td>0</td>\n      <td>0</td>\n      <td>0</td>\n      <td>0</td>\n      <td>0</td>\n      <td>0</td>\n      <td>0</td>\n      <td>0</td>\n      <td>0</td>\n    </tr>\n  </tbody>\n</table>\n<p>5281 rows × 15 columns</p>\n</div>"
     },
     "metadata": {},
     "execution_count": 10
    }
   ],
   "source": [
    "df"
   ]
  },
  {
   "cell_type": "code",
   "execution_count": 11,
   "metadata": {},
   "outputs": [],
   "source": [
    "#CONVERTNG DATATYPE OF ALL THE COLUMNS\n",
    "Tech_Indicators=['5-DAY_SMA','14-DAY_WMA','Momentum','Stochastic K%','Stochastic D%','Relative_strength_index','Signal(10)','Larry_William_R%','ADO','CCI']\n",
    "\n",
    "for i in Tech_Indicators:\n",
    "    df[i]=df[i].astype(float)\n",
    "   \n",
    "\n"
   ]
  },
  {
   "source": [
    "CALCULATING 5 DAY MOVING AVERAGE"
   ],
   "cell_type": "markdown",
   "metadata": {}
  },
  {
   "cell_type": "code",
   "execution_count": 12,
   "metadata": {
    "tags": []
   },
   "outputs": [
    {
     "output_type": "stream",
     "name": "stderr",
     "text": [
      "C:\\Users\\Sashank\\anaconda3\\envs\\myenv\\lib\\site-packages\\ipykernel_launcher.py:8: SettingWithCopyWarning: \nA value is trying to be set on a copy of a slice from a DataFrame\n\nSee the caveats in the documentation: https://pandas.pydata.org/pandas-docs/stable/user_guide/indexing.html#returning-a-view-versus-a-copy\n  \n"
     ]
    }
   ],
   "source": [
    "n=0\n",
    "sum=0\n",
    "while(n!=5277):\n",
    "    sum=0\n",
    "    for i in range(n,n+5):\n",
    "        sum=sum+df['Close'][i]\n",
    "        \n",
    "    df['5-DAY_SMA'][n+4]=sum/5\n",
    "    n=n+1"
   ]
  },
  {
   "source": [
    "CALCULATING 14 DAY WEIGHTED MOVING AVERAGE"
   ],
   "cell_type": "markdown",
   "metadata": {}
  },
  {
   "cell_type": "code",
   "execution_count": 13,
   "metadata": {},
   "outputs": [
    {
     "output_type": "stream",
     "name": "stderr",
     "text": [
      "C:\\Users\\Sashank\\anaconda3\\envs\\myenv\\lib\\site-packages\\ipykernel_launcher.py:8: SettingWithCopyWarning: \nA value is trying to be set on a copy of a slice from a DataFrame\n\nSee the caveats in the documentation: https://pandas.pydata.org/pandas-docs/stable/user_guide/indexing.html#returning-a-view-versus-a-copy\n  \n"
     ]
    }
   ],
   "source": [
    "n=0\n",
    "sum=0\n",
    "k=1\n",
    "while(n!=5268):\n",
    "    sum=0\n",
    "    for i in range(n,n+14):\n",
    "        sum=sum+(i+1)*df['Close'][i]\n",
    "    df['14-DAY_WMA'][n+13]=sum/105\n",
    "    n=n+1"
   ]
  },
  {
   "source": [
    "CALCULATING MOMENTUM(10 DAY)"
   ],
   "cell_type": "markdown",
   "metadata": {}
  },
  {
   "cell_type": "code",
   "execution_count": 14,
   "metadata": {},
   "outputs": [
    {
     "output_type": "stream",
     "name": "stderr",
     "text": [
      "C:\\Users\\Sashank\\anaconda3\\envs\\myenv\\lib\\site-packages\\ipykernel_launcher.py:2: SettingWithCopyWarning: \nA value is trying to be set on a copy of a slice from a DataFrame\n\nSee the caveats in the documentation: https://pandas.pydata.org/pandas-docs/stable/user_guide/indexing.html#returning-a-view-versus-a-copy\n  \n"
     ]
    }
   ],
   "source": [
    " for i in range(0,5272):\n",
    "     df['Momentum'][i+9]=df['Close'][i+9]-df['Close'][i]\n",
    "    "
   ]
  },
  {
   "source": [
    "calculating Stochastic K%"
   ],
   "cell_type": "markdown",
   "metadata": {}
  },
  {
   "cell_type": "code",
   "execution_count": 15,
   "metadata": {},
   "outputs": [
    {
     "output_type": "stream",
     "name": "stderr",
     "text": [
      "C:\\Users\\Sashank\\anaconda3\\envs\\myenv\\lib\\site-packages\\ipykernel_launcher.py:3: SettingWithCopyWarning: \n",
      "A value is trying to be set on a copy of a slice from a DataFrame\n",
      "\n",
      "See the caveats in the documentation: https://pandas.pydata.org/pandas-docs/stable/user_guide/indexing.html#returning-a-view-versus-a-copy\n",
      "  This is separate from the ipykernel package so we can avoid doing imports until\n",
      "C:\\Users\\Sashank\\anaconda3\\envs\\myenv\\lib\\site-packages\\ipykernel_launcher.py:6: SettingWithCopyWarning: \n",
      "A value is trying to be set on a copy of a slice from a DataFrame\n",
      "\n",
      "See the caveats in the documentation: https://pandas.pydata.org/pandas-docs/stable/user_guide/indexing.html#returning-a-view-versus-a-copy\n",
      "  \n"
     ]
    }
   ],
   "source": [
    "for i in range(0,5271):\n",
    "    \n",
    "    df['Stochastic K%'][i+9]=((df['Close'][i+9]-df.Low[i+0:i+10].min())/(df['High'][i+0:i+10].max()-df.Low[i+0:i+10].min()))*100\n",
    "        \n",
    "\n",
    "df['Stochastic K%'][5280]=((df['Close'][5280]-df.Low[5270:5280].min())/(df['High'][5270:5280].max()-df.Low[5270:5280].min()))*100  "
   ]
  },
  {
   "source": [
    "calculating stochastic D%"
   ],
   "cell_type": "markdown",
   "metadata": {}
  },
  {
   "cell_type": "code",
   "execution_count": 16,
   "metadata": {},
   "outputs": [
    {
     "output_type": "stream",
     "name": "stderr",
     "text": [
      "C:\\Users\\Sashank\\anaconda3\\envs\\myenv\\lib\\site-packages\\ipykernel_launcher.py:8: SettingWithCopyWarning: \nA value is trying to be set on a copy of a slice from a DataFrame\n\nSee the caveats in the documentation: https://pandas.pydata.org/pandas-docs/stable/user_guide/indexing.html#returning-a-view-versus-a-copy\n  \n"
     ]
    }
   ],
   "source": [
    "n=0\n",
    "sum=0\n",
    "while(n!=5279):\n",
    "    sum=0\n",
    "    for i in range(n,n+3):\n",
    "        sum=sum+df['Stochastic K%'][i]\n",
    "        \n",
    "    df['Stochastic D%'][n+2]=(sum/3)\n",
    "    n=n+1"
   ]
  },
  {
   "cell_type": "code",
   "execution_count": 17,
   "metadata": {},
   "outputs": [
    {
     "output_type": "execute_result",
     "data": {
      "text/plain": [
       "          Date     Open     High      Low    Close  5-DAY_SMA  14-DAY_WMA  \\\n",
       "0   2000-01-11  1550.00  1725.00  1492.00  1554.45       0.00         0.0   \n",
       "1   2000-01-12  1560.00  1678.85  1560.00  1678.85       0.00         0.0   \n",
       "2   2000-01-13  1790.00  1813.20  1781.00  1813.20       0.00         0.0   \n",
       "3   2000-01-14  1958.30  1958.30  1835.00  1958.30       0.00         0.0   \n",
       "4   2000-01-17  2115.00  2115.00  1801.65  1801.65    1761.29         0.0   \n",
       "5   2000-01-18  1730.55  1815.00  1657.55  1774.50    1805.30         0.0   \n",
       "6   2000-01-19  1815.00  1889.00  1760.00  1851.15    1839.76         0.0   \n",
       "7   2000-01-20  1865.00  1865.00  1750.00  1757.85    1828.69         0.0   \n",
       "8   2000-01-21  1761.00  1815.00  1705.00  1781.35    1793.30         0.0   \n",
       "9   2000-01-24  1834.90  1923.90  1795.00  1923.90    1817.75         0.0   \n",
       "10  2000-01-25  1990.00  2077.85  1990.00  2077.85    1878.42         0.0   \n",
       "11  2000-01-27  2239.90  2239.90  1965.00  2080.60    1924.31         0.0   \n",
       "\n",
       "    Momentum  Stochastic K%  Stochastic D%  Relative_strength_index  \\\n",
       "0       0.00       0.000000       0.000000                      0.0   \n",
       "1       0.00       0.000000       0.000000                      0.0   \n",
       "2       0.00       0.000000       0.000000                      0.0   \n",
       "3       0.00       0.000000       0.000000                      0.0   \n",
       "4       0.00       0.000000       0.000000                      0.0   \n",
       "5       0.00       0.000000       0.000000                      0.0   \n",
       "6       0.00       0.000000       0.000000                      0.0   \n",
       "7       0.00       0.000000       0.000000                      0.0   \n",
       "8       0.00       0.000000       0.000000                      0.0   \n",
       "9     369.45      69.325843      23.108614                      0.0   \n",
       "10    399.00      93.306306      54.210716                      0.0   \n",
       "11    267.40      72.645316      78.425822                      0.0   \n",
       "\n",
       "    Signal(10)  Larry_William_R%  ADO  CCI  \n",
       "0          0.0               0.0  0.0  0.0  \n",
       "1          0.0               0.0  0.0  0.0  \n",
       "2          0.0               0.0  0.0  0.0  \n",
       "3          0.0               0.0  0.0  0.0  \n",
       "4          0.0               0.0  0.0  0.0  \n",
       "5          0.0               0.0  0.0  0.0  \n",
       "6          0.0               0.0  0.0  0.0  \n",
       "7          0.0               0.0  0.0  0.0  \n",
       "8          0.0               0.0  0.0  0.0  \n",
       "9          0.0               0.0  0.0  0.0  \n",
       "10         0.0               0.0  0.0  0.0  \n",
       "11         0.0               0.0  0.0  0.0  "
      ],
      "text/html": "<div>\n<style scoped>\n    .dataframe tbody tr th:only-of-type {\n        vertical-align: middle;\n    }\n\n    .dataframe tbody tr th {\n        vertical-align: top;\n    }\n\n    .dataframe thead th {\n        text-align: right;\n    }\n</style>\n<table border=\"1\" class=\"dataframe\">\n  <thead>\n    <tr style=\"text-align: right;\">\n      <th></th>\n      <th>Date</th>\n      <th>Open</th>\n      <th>High</th>\n      <th>Low</th>\n      <th>Close</th>\n      <th>5-DAY_SMA</th>\n      <th>14-DAY_WMA</th>\n      <th>Momentum</th>\n      <th>Stochastic K%</th>\n      <th>Stochastic D%</th>\n      <th>Relative_strength_index</th>\n      <th>Signal(10)</th>\n      <th>Larry_William_R%</th>\n      <th>ADO</th>\n      <th>CCI</th>\n    </tr>\n  </thead>\n  <tbody>\n    <tr>\n      <th>0</th>\n      <td>2000-01-11</td>\n      <td>1550.00</td>\n      <td>1725.00</td>\n      <td>1492.00</td>\n      <td>1554.45</td>\n      <td>0.00</td>\n      <td>0.0</td>\n      <td>0.00</td>\n      <td>0.000000</td>\n      <td>0.000000</td>\n      <td>0.0</td>\n      <td>0.0</td>\n      <td>0.0</td>\n      <td>0.0</td>\n      <td>0.0</td>\n    </tr>\n    <tr>\n      <th>1</th>\n      <td>2000-01-12</td>\n      <td>1560.00</td>\n      <td>1678.85</td>\n      <td>1560.00</td>\n      <td>1678.85</td>\n      <td>0.00</td>\n      <td>0.0</td>\n      <td>0.00</td>\n      <td>0.000000</td>\n      <td>0.000000</td>\n      <td>0.0</td>\n      <td>0.0</td>\n      <td>0.0</td>\n      <td>0.0</td>\n      <td>0.0</td>\n    </tr>\n    <tr>\n      <th>2</th>\n      <td>2000-01-13</td>\n      <td>1790.00</td>\n      <td>1813.20</td>\n      <td>1781.00</td>\n      <td>1813.20</td>\n      <td>0.00</td>\n      <td>0.0</td>\n      <td>0.00</td>\n      <td>0.000000</td>\n      <td>0.000000</td>\n      <td>0.0</td>\n      <td>0.0</td>\n      <td>0.0</td>\n      <td>0.0</td>\n      <td>0.0</td>\n    </tr>\n    <tr>\n      <th>3</th>\n      <td>2000-01-14</td>\n      <td>1958.30</td>\n      <td>1958.30</td>\n      <td>1835.00</td>\n      <td>1958.30</td>\n      <td>0.00</td>\n      <td>0.0</td>\n      <td>0.00</td>\n      <td>0.000000</td>\n      <td>0.000000</td>\n      <td>0.0</td>\n      <td>0.0</td>\n      <td>0.0</td>\n      <td>0.0</td>\n      <td>0.0</td>\n    </tr>\n    <tr>\n      <th>4</th>\n      <td>2000-01-17</td>\n      <td>2115.00</td>\n      <td>2115.00</td>\n      <td>1801.65</td>\n      <td>1801.65</td>\n      <td>1761.29</td>\n      <td>0.0</td>\n      <td>0.00</td>\n      <td>0.000000</td>\n      <td>0.000000</td>\n      <td>0.0</td>\n      <td>0.0</td>\n      <td>0.0</td>\n      <td>0.0</td>\n      <td>0.0</td>\n    </tr>\n    <tr>\n      <th>5</th>\n      <td>2000-01-18</td>\n      <td>1730.55</td>\n      <td>1815.00</td>\n      <td>1657.55</td>\n      <td>1774.50</td>\n      <td>1805.30</td>\n      <td>0.0</td>\n      <td>0.00</td>\n      <td>0.000000</td>\n      <td>0.000000</td>\n      <td>0.0</td>\n      <td>0.0</td>\n      <td>0.0</td>\n      <td>0.0</td>\n      <td>0.0</td>\n    </tr>\n    <tr>\n      <th>6</th>\n      <td>2000-01-19</td>\n      <td>1815.00</td>\n      <td>1889.00</td>\n      <td>1760.00</td>\n      <td>1851.15</td>\n      <td>1839.76</td>\n      <td>0.0</td>\n      <td>0.00</td>\n      <td>0.000000</td>\n      <td>0.000000</td>\n      <td>0.0</td>\n      <td>0.0</td>\n      <td>0.0</td>\n      <td>0.0</td>\n      <td>0.0</td>\n    </tr>\n    <tr>\n      <th>7</th>\n      <td>2000-01-20</td>\n      <td>1865.00</td>\n      <td>1865.00</td>\n      <td>1750.00</td>\n      <td>1757.85</td>\n      <td>1828.69</td>\n      <td>0.0</td>\n      <td>0.00</td>\n      <td>0.000000</td>\n      <td>0.000000</td>\n      <td>0.0</td>\n      <td>0.0</td>\n      <td>0.0</td>\n      <td>0.0</td>\n      <td>0.0</td>\n    </tr>\n    <tr>\n      <th>8</th>\n      <td>2000-01-21</td>\n      <td>1761.00</td>\n      <td>1815.00</td>\n      <td>1705.00</td>\n      <td>1781.35</td>\n      <td>1793.30</td>\n      <td>0.0</td>\n      <td>0.00</td>\n      <td>0.000000</td>\n      <td>0.000000</td>\n      <td>0.0</td>\n      <td>0.0</td>\n      <td>0.0</td>\n      <td>0.0</td>\n      <td>0.0</td>\n    </tr>\n    <tr>\n      <th>9</th>\n      <td>2000-01-24</td>\n      <td>1834.90</td>\n      <td>1923.90</td>\n      <td>1795.00</td>\n      <td>1923.90</td>\n      <td>1817.75</td>\n      <td>0.0</td>\n      <td>369.45</td>\n      <td>69.325843</td>\n      <td>23.108614</td>\n      <td>0.0</td>\n      <td>0.0</td>\n      <td>0.0</td>\n      <td>0.0</td>\n      <td>0.0</td>\n    </tr>\n    <tr>\n      <th>10</th>\n      <td>2000-01-25</td>\n      <td>1990.00</td>\n      <td>2077.85</td>\n      <td>1990.00</td>\n      <td>2077.85</td>\n      <td>1878.42</td>\n      <td>0.0</td>\n      <td>399.00</td>\n      <td>93.306306</td>\n      <td>54.210716</td>\n      <td>0.0</td>\n      <td>0.0</td>\n      <td>0.0</td>\n      <td>0.0</td>\n      <td>0.0</td>\n    </tr>\n    <tr>\n      <th>11</th>\n      <td>2000-01-27</td>\n      <td>2239.90</td>\n      <td>2239.90</td>\n      <td>1965.00</td>\n      <td>2080.60</td>\n      <td>1924.31</td>\n      <td>0.0</td>\n      <td>267.40</td>\n      <td>72.645316</td>\n      <td>78.425822</td>\n      <td>0.0</td>\n      <td>0.0</td>\n      <td>0.0</td>\n      <td>0.0</td>\n      <td>0.0</td>\n    </tr>\n  </tbody>\n</table>\n</div>"
     },
     "metadata": {},
     "execution_count": 17
    }
   ],
   "source": [
    "df[0:12]"
   ]
  },
  {
   "source": [
    "LARRY WILLIAM R%"
   ],
   "cell_type": "markdown",
   "metadata": {}
  },
  {
   "source": [
    "for i in range(0,5271):\n",
    "    df['Larry_William_R%'][i+9]=((df.High[i+0:i+10].max()-df['Close'][i+9])/(df['High'][i+0:i+10].max()-df.Low[i+0:i+10].min()))*100\n",
    "        \n",
    "\n",
    "df['Larry_William_R%'][5280]=((df.High[5270:5280].max()-df['Close'][5280])/(df['High'][5270:5280].max()-df.Low[5270:5280].min()))*100"
   ],
   "cell_type": "code",
   "metadata": {},
   "execution_count": 18,
   "outputs": [
    {
     "output_type": "stream",
     "name": "stderr",
     "text": [
      "C:\\Users\\Sashank\\anaconda3\\envs\\myenv\\lib\\site-packages\\ipykernel_launcher.py:2: SettingWithCopyWarning: \n",
      "A value is trying to be set on a copy of a slice from a DataFrame\n",
      "\n",
      "See the caveats in the documentation: https://pandas.pydata.org/pandas-docs/stable/user_guide/indexing.html#returning-a-view-versus-a-copy\n",
      "  \n",
      "C:\\Users\\Sashank\\anaconda3\\envs\\myenv\\lib\\site-packages\\ipykernel_launcher.py:5: SettingWithCopyWarning: \n",
      "A value is trying to be set on a copy of a slice from a DataFrame\n",
      "\n",
      "See the caveats in the documentation: https://pandas.pydata.org/pandas-docs/stable/user_guide/indexing.html#returning-a-view-versus-a-copy\n",
      "  \"\"\"\n"
     ]
    }
   ]
  },
  {
   "source": [
    "Calculating ADO"
   ],
   "cell_type": "markdown",
   "metadata": {}
  },
  {
   "cell_type": "code",
   "execution_count": 19,
   "metadata": {},
   "outputs": [
    {
     "output_type": "stream",
     "name": "stderr",
     "text": [
      "C:\\Users\\Sashank\\anaconda3\\envs\\myenv\\lib\\site-packages\\ipykernel_launcher.py:2: SettingWithCopyWarning: \nA value is trying to be set on a copy of a slice from a DataFrame\n\nSee the caveats in the documentation: https://pandas.pydata.org/pandas-docs/stable/user_guide/indexing.html#returning-a-view-versus-a-copy\n  \nC:\\Users\\Sashank\\anaconda3\\envs\\myenv\\lib\\site-packages\\ipykernel_launcher.py:2: RuntimeWarning: invalid value encountered in double_scalars\n  \n"
     ]
    }
   ],
   "source": [
    "for i in range(0,5281):\n",
    "    df['ADO'][i]=(df['High'][i]-df['Close'][i])/(df['High'][i]-df['Low'][i])\n",
    "\n"
   ]
  },
  {
   "cell_type": "code",
   "execution_count": 20,
   "metadata": {},
   "outputs": [
    {
     "output_type": "execute_result",
     "data": {
      "text/plain": [
       "            Date     Open     High      Low    Close  5-DAY_SMA  \\\n",
       "0     2000-01-11  1550.00  1725.00  1492.00  1554.45       0.00   \n",
       "1     2000-01-12  1560.00  1678.85  1560.00  1678.85       0.00   \n",
       "2     2000-01-13  1790.00  1813.20  1781.00  1813.20       0.00   \n",
       "3     2000-01-14  1958.30  1958.30  1835.00  1958.30       0.00   \n",
       "4     2000-01-17  2115.00  2115.00  1801.65  1801.65    1761.29   \n",
       "...          ...      ...      ...      ...      ...        ...   \n",
       "5276  2021-03-24   971.05   984.75   965.80   975.65     968.69   \n",
       "5277  2021-03-25   970.00   974.50   950.00   957.05     970.55   \n",
       "5278  2021-03-26   965.00   975.00   953.80   958.55     970.17   \n",
       "5279  2021-03-30   965.00  1000.80   964.45   995.80     973.58   \n",
       "5280  2021-03-31  1000.00  1000.00   978.65   982.65     973.94   \n",
       "\n",
       "         14-DAY_WMA  Momentum  Stochastic K%  Stochastic D%  \\\n",
       "0          0.000000      0.00       0.000000       0.000000   \n",
       "1          0.000000      0.00       0.000000       0.000000   \n",
       "2          0.000000      0.00       0.000000       0.000000   \n",
       "3          0.000000      0.00       0.000000       0.000000   \n",
       "4          0.000000      0.00       0.000000       0.000000   \n",
       "...             ...       ...            ...            ...   \n",
       "5276  684304.312381    -12.85      47.267760      50.291439   \n",
       "5277  684384.292381    -22.20      26.939891      42.386157   \n",
       "5278  685367.034762    -33.80      28.579235      34.262295   \n",
       "5279  687199.973810    -11.45      69.289617      41.602914   \n",
       "5280  687807.531905     -4.80      54.918033      50.928962   \n",
       "\n",
       "      Relative_strength_index  Signal(10)  Larry_William_R%       ADO  CCI  \n",
       "0                         0.0         0.0          0.000000  0.731974  0.0  \n",
       "1                         0.0         0.0          0.000000  0.000000  0.0  \n",
       "2                         0.0         0.0          0.000000  0.000000  0.0  \n",
       "3                         0.0         0.0          0.000000  0.000000  0.0  \n",
       "4                         0.0         0.0          0.000000  1.000000  0.0  \n",
       "...                       ...         ...               ...       ...  ...  \n",
       "5276                      0.0         0.0         52.732240  0.480211  0.0  \n",
       "5277                      0.0         0.0         73.060109  0.712245  0.0  \n",
       "5278                      0.0         0.0         71.420765  0.775943  0.0  \n",
       "5279                      0.0         0.0         30.710383  0.137552  0.0  \n",
       "5280                      0.0         0.0         45.081967  0.812646  0.0  \n",
       "\n",
       "[5281 rows x 15 columns]"
      ],
      "text/html": "<div>\n<style scoped>\n    .dataframe tbody tr th:only-of-type {\n        vertical-align: middle;\n    }\n\n    .dataframe tbody tr th {\n        vertical-align: top;\n    }\n\n    .dataframe thead th {\n        text-align: right;\n    }\n</style>\n<table border=\"1\" class=\"dataframe\">\n  <thead>\n    <tr style=\"text-align: right;\">\n      <th></th>\n      <th>Date</th>\n      <th>Open</th>\n      <th>High</th>\n      <th>Low</th>\n      <th>Close</th>\n      <th>5-DAY_SMA</th>\n      <th>14-DAY_WMA</th>\n      <th>Momentum</th>\n      <th>Stochastic K%</th>\n      <th>Stochastic D%</th>\n      <th>Relative_strength_index</th>\n      <th>Signal(10)</th>\n      <th>Larry_William_R%</th>\n      <th>ADO</th>\n      <th>CCI</th>\n    </tr>\n  </thead>\n  <tbody>\n    <tr>\n      <th>0</th>\n      <td>2000-01-11</td>\n      <td>1550.00</td>\n      <td>1725.00</td>\n      <td>1492.00</td>\n      <td>1554.45</td>\n      <td>0.00</td>\n      <td>0.000000</td>\n      <td>0.00</td>\n      <td>0.000000</td>\n      <td>0.000000</td>\n      <td>0.0</td>\n      <td>0.0</td>\n      <td>0.000000</td>\n      <td>0.731974</td>\n      <td>0.0</td>\n    </tr>\n    <tr>\n      <th>1</th>\n      <td>2000-01-12</td>\n      <td>1560.00</td>\n      <td>1678.85</td>\n      <td>1560.00</td>\n      <td>1678.85</td>\n      <td>0.00</td>\n      <td>0.000000</td>\n      <td>0.00</td>\n      <td>0.000000</td>\n      <td>0.000000</td>\n      <td>0.0</td>\n      <td>0.0</td>\n      <td>0.000000</td>\n      <td>0.000000</td>\n      <td>0.0</td>\n    </tr>\n    <tr>\n      <th>2</th>\n      <td>2000-01-13</td>\n      <td>1790.00</td>\n      <td>1813.20</td>\n      <td>1781.00</td>\n      <td>1813.20</td>\n      <td>0.00</td>\n      <td>0.000000</td>\n      <td>0.00</td>\n      <td>0.000000</td>\n      <td>0.000000</td>\n      <td>0.0</td>\n      <td>0.0</td>\n      <td>0.000000</td>\n      <td>0.000000</td>\n      <td>0.0</td>\n    </tr>\n    <tr>\n      <th>3</th>\n      <td>2000-01-14</td>\n      <td>1958.30</td>\n      <td>1958.30</td>\n      <td>1835.00</td>\n      <td>1958.30</td>\n      <td>0.00</td>\n      <td>0.000000</td>\n      <td>0.00</td>\n      <td>0.000000</td>\n      <td>0.000000</td>\n      <td>0.0</td>\n      <td>0.0</td>\n      <td>0.000000</td>\n      <td>0.000000</td>\n      <td>0.0</td>\n    </tr>\n    <tr>\n      <th>4</th>\n      <td>2000-01-17</td>\n      <td>2115.00</td>\n      <td>2115.00</td>\n      <td>1801.65</td>\n      <td>1801.65</td>\n      <td>1761.29</td>\n      <td>0.000000</td>\n      <td>0.00</td>\n      <td>0.000000</td>\n      <td>0.000000</td>\n      <td>0.0</td>\n      <td>0.0</td>\n      <td>0.000000</td>\n      <td>1.000000</td>\n      <td>0.0</td>\n    </tr>\n    <tr>\n      <th>...</th>\n      <td>...</td>\n      <td>...</td>\n      <td>...</td>\n      <td>...</td>\n      <td>...</td>\n      <td>...</td>\n      <td>...</td>\n      <td>...</td>\n      <td>...</td>\n      <td>...</td>\n      <td>...</td>\n      <td>...</td>\n      <td>...</td>\n      <td>...</td>\n      <td>...</td>\n    </tr>\n    <tr>\n      <th>5276</th>\n      <td>2021-03-24</td>\n      <td>971.05</td>\n      <td>984.75</td>\n      <td>965.80</td>\n      <td>975.65</td>\n      <td>968.69</td>\n      <td>684304.312381</td>\n      <td>-12.85</td>\n      <td>47.267760</td>\n      <td>50.291439</td>\n      <td>0.0</td>\n      <td>0.0</td>\n      <td>52.732240</td>\n      <td>0.480211</td>\n      <td>0.0</td>\n    </tr>\n    <tr>\n      <th>5277</th>\n      <td>2021-03-25</td>\n      <td>970.00</td>\n      <td>974.50</td>\n      <td>950.00</td>\n      <td>957.05</td>\n      <td>970.55</td>\n      <td>684384.292381</td>\n      <td>-22.20</td>\n      <td>26.939891</td>\n      <td>42.386157</td>\n      <td>0.0</td>\n      <td>0.0</td>\n      <td>73.060109</td>\n      <td>0.712245</td>\n      <td>0.0</td>\n    </tr>\n    <tr>\n      <th>5278</th>\n      <td>2021-03-26</td>\n      <td>965.00</td>\n      <td>975.00</td>\n      <td>953.80</td>\n      <td>958.55</td>\n      <td>970.17</td>\n      <td>685367.034762</td>\n      <td>-33.80</td>\n      <td>28.579235</td>\n      <td>34.262295</td>\n      <td>0.0</td>\n      <td>0.0</td>\n      <td>71.420765</td>\n      <td>0.775943</td>\n      <td>0.0</td>\n    </tr>\n    <tr>\n      <th>5279</th>\n      <td>2021-03-30</td>\n      <td>965.00</td>\n      <td>1000.80</td>\n      <td>964.45</td>\n      <td>995.80</td>\n      <td>973.58</td>\n      <td>687199.973810</td>\n      <td>-11.45</td>\n      <td>69.289617</td>\n      <td>41.602914</td>\n      <td>0.0</td>\n      <td>0.0</td>\n      <td>30.710383</td>\n      <td>0.137552</td>\n      <td>0.0</td>\n    </tr>\n    <tr>\n      <th>5280</th>\n      <td>2021-03-31</td>\n      <td>1000.00</td>\n      <td>1000.00</td>\n      <td>978.65</td>\n      <td>982.65</td>\n      <td>973.94</td>\n      <td>687807.531905</td>\n      <td>-4.80</td>\n      <td>54.918033</td>\n      <td>50.928962</td>\n      <td>0.0</td>\n      <td>0.0</td>\n      <td>45.081967</td>\n      <td>0.812646</td>\n      <td>0.0</td>\n    </tr>\n  </tbody>\n</table>\n<p>5281 rows × 15 columns</p>\n</div>"
     },
     "metadata": {},
     "execution_count": 20
    }
   ],
   "source": [
    "df"
   ]
  },
  {
   "source": [
    "CALCULATING RELATIVE STRENGTH INDEX(RSI)"
   ],
   "cell_type": "markdown",
   "metadata": {}
  },
  {
   "cell_type": "code",
   "execution_count": 21,
   "metadata": {},
   "outputs": [],
   "source": [
    "df.insert(10,'U',0.000)\n",
    "df.insert(11,'D',0.000)\n"
   ]
  },
  {
   "cell_type": "code",
   "execution_count": 22,
   "metadata": {},
   "outputs": [
    {
     "output_type": "execute_result",
     "data": {
      "text/plain": [
       "            Date     Open     High      Low    Close  5-DAY_SMA  \\\n",
       "0     2000-01-11  1550.00  1725.00  1492.00  1554.45       0.00   \n",
       "1     2000-01-12  1560.00  1678.85  1560.00  1678.85       0.00   \n",
       "2     2000-01-13  1790.00  1813.20  1781.00  1813.20       0.00   \n",
       "3     2000-01-14  1958.30  1958.30  1835.00  1958.30       0.00   \n",
       "4     2000-01-17  2115.00  2115.00  1801.65  1801.65    1761.29   \n",
       "...          ...      ...      ...      ...      ...        ...   \n",
       "5276  2021-03-24   971.05   984.75   965.80   975.65     968.69   \n",
       "5277  2021-03-25   970.00   974.50   950.00   957.05     970.55   \n",
       "5278  2021-03-26   965.00   975.00   953.80   958.55     970.17   \n",
       "5279  2021-03-30   965.00  1000.80   964.45   995.80     973.58   \n",
       "5280  2021-03-31  1000.00  1000.00   978.65   982.65     973.94   \n",
       "\n",
       "         14-DAY_WMA  Momentum  Stochastic K%  Stochastic D%    U    D  \\\n",
       "0          0.000000      0.00       0.000000       0.000000  0.0  0.0   \n",
       "1          0.000000      0.00       0.000000       0.000000  0.0  0.0   \n",
       "2          0.000000      0.00       0.000000       0.000000  0.0  0.0   \n",
       "3          0.000000      0.00       0.000000       0.000000  0.0  0.0   \n",
       "4          0.000000      0.00       0.000000       0.000000  0.0  0.0   \n",
       "...             ...       ...            ...            ...  ...  ...   \n",
       "5276  684304.312381    -12.85      47.267760      50.291439  0.0  0.0   \n",
       "5277  684384.292381    -22.20      26.939891      42.386157  0.0  0.0   \n",
       "5278  685367.034762    -33.80      28.579235      34.262295  0.0  0.0   \n",
       "5279  687199.973810    -11.45      69.289617      41.602914  0.0  0.0   \n",
       "5280  687807.531905     -4.80      54.918033      50.928962  0.0  0.0   \n",
       "\n",
       "      Relative_strength_index  Signal(10)  Larry_William_R%       ADO  CCI  \n",
       "0                         0.0         0.0          0.000000  0.731974  0.0  \n",
       "1                         0.0         0.0          0.000000  0.000000  0.0  \n",
       "2                         0.0         0.0          0.000000  0.000000  0.0  \n",
       "3                         0.0         0.0          0.000000  0.000000  0.0  \n",
       "4                         0.0         0.0          0.000000  1.000000  0.0  \n",
       "...                       ...         ...               ...       ...  ...  \n",
       "5276                      0.0         0.0         52.732240  0.480211  0.0  \n",
       "5277                      0.0         0.0         73.060109  0.712245  0.0  \n",
       "5278                      0.0         0.0         71.420765  0.775943  0.0  \n",
       "5279                      0.0         0.0         30.710383  0.137552  0.0  \n",
       "5280                      0.0         0.0         45.081967  0.812646  0.0  \n",
       "\n",
       "[5281 rows x 17 columns]"
      ],
      "text/html": "<div>\n<style scoped>\n    .dataframe tbody tr th:only-of-type {\n        vertical-align: middle;\n    }\n\n    .dataframe tbody tr th {\n        vertical-align: top;\n    }\n\n    .dataframe thead th {\n        text-align: right;\n    }\n</style>\n<table border=\"1\" class=\"dataframe\">\n  <thead>\n    <tr style=\"text-align: right;\">\n      <th></th>\n      <th>Date</th>\n      <th>Open</th>\n      <th>High</th>\n      <th>Low</th>\n      <th>Close</th>\n      <th>5-DAY_SMA</th>\n      <th>14-DAY_WMA</th>\n      <th>Momentum</th>\n      <th>Stochastic K%</th>\n      <th>Stochastic D%</th>\n      <th>U</th>\n      <th>D</th>\n      <th>Relative_strength_index</th>\n      <th>Signal(10)</th>\n      <th>Larry_William_R%</th>\n      <th>ADO</th>\n      <th>CCI</th>\n    </tr>\n  </thead>\n  <tbody>\n    <tr>\n      <th>0</th>\n      <td>2000-01-11</td>\n      <td>1550.00</td>\n      <td>1725.00</td>\n      <td>1492.00</td>\n      <td>1554.45</td>\n      <td>0.00</td>\n      <td>0.000000</td>\n      <td>0.00</td>\n      <td>0.000000</td>\n      <td>0.000000</td>\n      <td>0.0</td>\n      <td>0.0</td>\n      <td>0.0</td>\n      <td>0.0</td>\n      <td>0.000000</td>\n      <td>0.731974</td>\n      <td>0.0</td>\n    </tr>\n    <tr>\n      <th>1</th>\n      <td>2000-01-12</td>\n      <td>1560.00</td>\n      <td>1678.85</td>\n      <td>1560.00</td>\n      <td>1678.85</td>\n      <td>0.00</td>\n      <td>0.000000</td>\n      <td>0.00</td>\n      <td>0.000000</td>\n      <td>0.000000</td>\n      <td>0.0</td>\n      <td>0.0</td>\n      <td>0.0</td>\n      <td>0.0</td>\n      <td>0.000000</td>\n      <td>0.000000</td>\n      <td>0.0</td>\n    </tr>\n    <tr>\n      <th>2</th>\n      <td>2000-01-13</td>\n      <td>1790.00</td>\n      <td>1813.20</td>\n      <td>1781.00</td>\n      <td>1813.20</td>\n      <td>0.00</td>\n      <td>0.000000</td>\n      <td>0.00</td>\n      <td>0.000000</td>\n      <td>0.000000</td>\n      <td>0.0</td>\n      <td>0.0</td>\n      <td>0.0</td>\n      <td>0.0</td>\n      <td>0.000000</td>\n      <td>0.000000</td>\n      <td>0.0</td>\n    </tr>\n    <tr>\n      <th>3</th>\n      <td>2000-01-14</td>\n      <td>1958.30</td>\n      <td>1958.30</td>\n      <td>1835.00</td>\n      <td>1958.30</td>\n      <td>0.00</td>\n      <td>0.000000</td>\n      <td>0.00</td>\n      <td>0.000000</td>\n      <td>0.000000</td>\n      <td>0.0</td>\n      <td>0.0</td>\n      <td>0.0</td>\n      <td>0.0</td>\n      <td>0.000000</td>\n      <td>0.000000</td>\n      <td>0.0</td>\n    </tr>\n    <tr>\n      <th>4</th>\n      <td>2000-01-17</td>\n      <td>2115.00</td>\n      <td>2115.00</td>\n      <td>1801.65</td>\n      <td>1801.65</td>\n      <td>1761.29</td>\n      <td>0.000000</td>\n      <td>0.00</td>\n      <td>0.000000</td>\n      <td>0.000000</td>\n      <td>0.0</td>\n      <td>0.0</td>\n      <td>0.0</td>\n      <td>0.0</td>\n      <td>0.000000</td>\n      <td>1.000000</td>\n      <td>0.0</td>\n    </tr>\n    <tr>\n      <th>...</th>\n      <td>...</td>\n      <td>...</td>\n      <td>...</td>\n      <td>...</td>\n      <td>...</td>\n      <td>...</td>\n      <td>...</td>\n      <td>...</td>\n      <td>...</td>\n      <td>...</td>\n      <td>...</td>\n      <td>...</td>\n      <td>...</td>\n      <td>...</td>\n      <td>...</td>\n      <td>...</td>\n      <td>...</td>\n    </tr>\n    <tr>\n      <th>5276</th>\n      <td>2021-03-24</td>\n      <td>971.05</td>\n      <td>984.75</td>\n      <td>965.80</td>\n      <td>975.65</td>\n      <td>968.69</td>\n      <td>684304.312381</td>\n      <td>-12.85</td>\n      <td>47.267760</td>\n      <td>50.291439</td>\n      <td>0.0</td>\n      <td>0.0</td>\n      <td>0.0</td>\n      <td>0.0</td>\n      <td>52.732240</td>\n      <td>0.480211</td>\n      <td>0.0</td>\n    </tr>\n    <tr>\n      <th>5277</th>\n      <td>2021-03-25</td>\n      <td>970.00</td>\n      <td>974.50</td>\n      <td>950.00</td>\n      <td>957.05</td>\n      <td>970.55</td>\n      <td>684384.292381</td>\n      <td>-22.20</td>\n      <td>26.939891</td>\n      <td>42.386157</td>\n      <td>0.0</td>\n      <td>0.0</td>\n      <td>0.0</td>\n      <td>0.0</td>\n      <td>73.060109</td>\n      <td>0.712245</td>\n      <td>0.0</td>\n    </tr>\n    <tr>\n      <th>5278</th>\n      <td>2021-03-26</td>\n      <td>965.00</td>\n      <td>975.00</td>\n      <td>953.80</td>\n      <td>958.55</td>\n      <td>970.17</td>\n      <td>685367.034762</td>\n      <td>-33.80</td>\n      <td>28.579235</td>\n      <td>34.262295</td>\n      <td>0.0</td>\n      <td>0.0</td>\n      <td>0.0</td>\n      <td>0.0</td>\n      <td>71.420765</td>\n      <td>0.775943</td>\n      <td>0.0</td>\n    </tr>\n    <tr>\n      <th>5279</th>\n      <td>2021-03-30</td>\n      <td>965.00</td>\n      <td>1000.80</td>\n      <td>964.45</td>\n      <td>995.80</td>\n      <td>973.58</td>\n      <td>687199.973810</td>\n      <td>-11.45</td>\n      <td>69.289617</td>\n      <td>41.602914</td>\n      <td>0.0</td>\n      <td>0.0</td>\n      <td>0.0</td>\n      <td>0.0</td>\n      <td>30.710383</td>\n      <td>0.137552</td>\n      <td>0.0</td>\n    </tr>\n    <tr>\n      <th>5280</th>\n      <td>2021-03-31</td>\n      <td>1000.00</td>\n      <td>1000.00</td>\n      <td>978.65</td>\n      <td>982.65</td>\n      <td>973.94</td>\n      <td>687807.531905</td>\n      <td>-4.80</td>\n      <td>54.918033</td>\n      <td>50.928962</td>\n      <td>0.0</td>\n      <td>0.0</td>\n      <td>0.0</td>\n      <td>0.0</td>\n      <td>45.081967</td>\n      <td>0.812646</td>\n      <td>0.0</td>\n    </tr>\n  </tbody>\n</table>\n<p>5281 rows × 17 columns</p>\n</div>"
     },
     "metadata": {},
     "execution_count": 22
    }
   ],
   "source": [
    "df"
   ]
  },
  {
   "cell_type": "code",
   "execution_count": 23,
   "metadata": {},
   "outputs": [],
   "source": [
    "df['D']=df['Close'].diff()"
   ]
  },
  {
   "cell_type": "code",
   "execution_count": 24,
   "metadata": {},
   "outputs": [],
   "source": [
    "df['U']=df['Close'].diff()"
   ]
  },
  {
   "cell_type": "code",
   "execution_count": 25,
   "metadata": {},
   "outputs": [],
   "source": [
    "def positive_U(val):\n",
    "    if val<0:\n",
    "        return 0\n",
    "    \n",
    "    return val\n",
    "def positive_d(val):\n",
    "    if val>0:\n",
    "        return 0\n",
    "    \n",
    "    return -1*val"
   ]
  },
  {
   "cell_type": "code",
   "execution_count": 26,
   "metadata": {},
   "outputs": [],
   "source": [
    "df['U']=df['U'].apply(positive_U)"
   ]
  },
  {
   "cell_type": "code",
   "execution_count": 27,
   "metadata": {},
   "outputs": [],
   "source": [
    "df['D']=df['D'].apply(positive_d)\n"
   ]
  },
  {
   "cell_type": "code",
   "execution_count": 28,
   "metadata": {},
   "outputs": [
    {
     "output_type": "execute_result",
     "data": {
      "text/plain": [
       "0          NaN\n",
       "1       124.40\n",
       "2       134.35\n",
       "3       145.10\n",
       "4         0.00\n",
       "         ...  \n",
       "5276      0.00\n",
       "5277      0.00\n",
       "5278      1.50\n",
       "5279     37.25\n",
       "5280      0.00\n",
       "Name: U, Length: 5281, dtype: float64"
      ]
     },
     "metadata": {},
     "execution_count": 28
    }
   ],
   "source": [
    "df['U']"
   ]
  },
  {
   "cell_type": "code",
   "execution_count": 29,
   "metadata": {},
   "outputs": [
    {
     "output_type": "execute_result",
     "data": {
      "text/plain": [
       "0          NaN\n",
       "1         0.00\n",
       "2         0.00\n",
       "3         0.00\n",
       "4       156.65\n",
       "         ...  \n",
       "5276      5.20\n",
       "5277     18.60\n",
       "5278      0.00\n",
       "5279      0.00\n",
       "5280     13.15\n",
       "Name: D, Length: 5281, dtype: float64"
      ]
     },
     "metadata": {},
     "execution_count": 29
    }
   ],
   "source": [
    "df['D']"
   ]
  },
  {
   "cell_type": "code",
   "execution_count": 30,
   "metadata": {},
   "outputs": [
    {
     "output_type": "execute_result",
     "data": {
      "text/plain": [
       "            Date     Open     High      Low    Close  5-DAY_SMA  \\\n",
       "0     2000-01-11  1550.00  1725.00  1492.00  1554.45       0.00   \n",
       "1     2000-01-12  1560.00  1678.85  1560.00  1678.85       0.00   \n",
       "2     2000-01-13  1790.00  1813.20  1781.00  1813.20       0.00   \n",
       "3     2000-01-14  1958.30  1958.30  1835.00  1958.30       0.00   \n",
       "4     2000-01-17  2115.00  2115.00  1801.65  1801.65    1761.29   \n",
       "...          ...      ...      ...      ...      ...        ...   \n",
       "5276  2021-03-24   971.05   984.75   965.80   975.65     968.69   \n",
       "5277  2021-03-25   970.00   974.50   950.00   957.05     970.55   \n",
       "5278  2021-03-26   965.00   975.00   953.80   958.55     970.17   \n",
       "5279  2021-03-30   965.00  1000.80   964.45   995.80     973.58   \n",
       "5280  2021-03-31  1000.00  1000.00   978.65   982.65     973.94   \n",
       "\n",
       "         14-DAY_WMA  Momentum  Stochastic K%  Stochastic D%       U       D  \\\n",
       "0          0.000000      0.00       0.000000       0.000000     NaN     NaN   \n",
       "1          0.000000      0.00       0.000000       0.000000  124.40    0.00   \n",
       "2          0.000000      0.00       0.000000       0.000000  134.35    0.00   \n",
       "3          0.000000      0.00       0.000000       0.000000  145.10    0.00   \n",
       "4          0.000000      0.00       0.000000       0.000000    0.00  156.65   \n",
       "...             ...       ...            ...            ...     ...     ...   \n",
       "5276  684304.312381    -12.85      47.267760      50.291439    0.00    5.20   \n",
       "5277  684384.292381    -22.20      26.939891      42.386157    0.00   18.60   \n",
       "5278  685367.034762    -33.80      28.579235      34.262295    1.50    0.00   \n",
       "5279  687199.973810    -11.45      69.289617      41.602914   37.25    0.00   \n",
       "5280  687807.531905     -4.80      54.918033      50.928962    0.00   13.15   \n",
       "\n",
       "      Relative_strength_index  Signal(10)  Larry_William_R%       ADO  CCI  \n",
       "0                         0.0         0.0          0.000000  0.731974  0.0  \n",
       "1                         0.0         0.0          0.000000  0.000000  0.0  \n",
       "2                         0.0         0.0          0.000000  0.000000  0.0  \n",
       "3                         0.0         0.0          0.000000  0.000000  0.0  \n",
       "4                         0.0         0.0          0.000000  1.000000  0.0  \n",
       "...                       ...         ...               ...       ...  ...  \n",
       "5276                      0.0         0.0         52.732240  0.480211  0.0  \n",
       "5277                      0.0         0.0         73.060109  0.712245  0.0  \n",
       "5278                      0.0         0.0         71.420765  0.775943  0.0  \n",
       "5279                      0.0         0.0         30.710383  0.137552  0.0  \n",
       "5280                      0.0         0.0         45.081967  0.812646  0.0  \n",
       "\n",
       "[5281 rows x 17 columns]"
      ],
      "text/html": "<div>\n<style scoped>\n    .dataframe tbody tr th:only-of-type {\n        vertical-align: middle;\n    }\n\n    .dataframe tbody tr th {\n        vertical-align: top;\n    }\n\n    .dataframe thead th {\n        text-align: right;\n    }\n</style>\n<table border=\"1\" class=\"dataframe\">\n  <thead>\n    <tr style=\"text-align: right;\">\n      <th></th>\n      <th>Date</th>\n      <th>Open</th>\n      <th>High</th>\n      <th>Low</th>\n      <th>Close</th>\n      <th>5-DAY_SMA</th>\n      <th>14-DAY_WMA</th>\n      <th>Momentum</th>\n      <th>Stochastic K%</th>\n      <th>Stochastic D%</th>\n      <th>U</th>\n      <th>D</th>\n      <th>Relative_strength_index</th>\n      <th>Signal(10)</th>\n      <th>Larry_William_R%</th>\n      <th>ADO</th>\n      <th>CCI</th>\n    </tr>\n  </thead>\n  <tbody>\n    <tr>\n      <th>0</th>\n      <td>2000-01-11</td>\n      <td>1550.00</td>\n      <td>1725.00</td>\n      <td>1492.00</td>\n      <td>1554.45</td>\n      <td>0.00</td>\n      <td>0.000000</td>\n      <td>0.00</td>\n      <td>0.000000</td>\n      <td>0.000000</td>\n      <td>NaN</td>\n      <td>NaN</td>\n      <td>0.0</td>\n      <td>0.0</td>\n      <td>0.000000</td>\n      <td>0.731974</td>\n      <td>0.0</td>\n    </tr>\n    <tr>\n      <th>1</th>\n      <td>2000-01-12</td>\n      <td>1560.00</td>\n      <td>1678.85</td>\n      <td>1560.00</td>\n      <td>1678.85</td>\n      <td>0.00</td>\n      <td>0.000000</td>\n      <td>0.00</td>\n      <td>0.000000</td>\n      <td>0.000000</td>\n      <td>124.40</td>\n      <td>0.00</td>\n      <td>0.0</td>\n      <td>0.0</td>\n      <td>0.000000</td>\n      <td>0.000000</td>\n      <td>0.0</td>\n    </tr>\n    <tr>\n      <th>2</th>\n      <td>2000-01-13</td>\n      <td>1790.00</td>\n      <td>1813.20</td>\n      <td>1781.00</td>\n      <td>1813.20</td>\n      <td>0.00</td>\n      <td>0.000000</td>\n      <td>0.00</td>\n      <td>0.000000</td>\n      <td>0.000000</td>\n      <td>134.35</td>\n      <td>0.00</td>\n      <td>0.0</td>\n      <td>0.0</td>\n      <td>0.000000</td>\n      <td>0.000000</td>\n      <td>0.0</td>\n    </tr>\n    <tr>\n      <th>3</th>\n      <td>2000-01-14</td>\n      <td>1958.30</td>\n      <td>1958.30</td>\n      <td>1835.00</td>\n      <td>1958.30</td>\n      <td>0.00</td>\n      <td>0.000000</td>\n      <td>0.00</td>\n      <td>0.000000</td>\n      <td>0.000000</td>\n      <td>145.10</td>\n      <td>0.00</td>\n      <td>0.0</td>\n      <td>0.0</td>\n      <td>0.000000</td>\n      <td>0.000000</td>\n      <td>0.0</td>\n    </tr>\n    <tr>\n      <th>4</th>\n      <td>2000-01-17</td>\n      <td>2115.00</td>\n      <td>2115.00</td>\n      <td>1801.65</td>\n      <td>1801.65</td>\n      <td>1761.29</td>\n      <td>0.000000</td>\n      <td>0.00</td>\n      <td>0.000000</td>\n      <td>0.000000</td>\n      <td>0.00</td>\n      <td>156.65</td>\n      <td>0.0</td>\n      <td>0.0</td>\n      <td>0.000000</td>\n      <td>1.000000</td>\n      <td>0.0</td>\n    </tr>\n    <tr>\n      <th>...</th>\n      <td>...</td>\n      <td>...</td>\n      <td>...</td>\n      <td>...</td>\n      <td>...</td>\n      <td>...</td>\n      <td>...</td>\n      <td>...</td>\n      <td>...</td>\n      <td>...</td>\n      <td>...</td>\n      <td>...</td>\n      <td>...</td>\n      <td>...</td>\n      <td>...</td>\n      <td>...</td>\n      <td>...</td>\n    </tr>\n    <tr>\n      <th>5276</th>\n      <td>2021-03-24</td>\n      <td>971.05</td>\n      <td>984.75</td>\n      <td>965.80</td>\n      <td>975.65</td>\n      <td>968.69</td>\n      <td>684304.312381</td>\n      <td>-12.85</td>\n      <td>47.267760</td>\n      <td>50.291439</td>\n      <td>0.00</td>\n      <td>5.20</td>\n      <td>0.0</td>\n      <td>0.0</td>\n      <td>52.732240</td>\n      <td>0.480211</td>\n      <td>0.0</td>\n    </tr>\n    <tr>\n      <th>5277</th>\n      <td>2021-03-25</td>\n      <td>970.00</td>\n      <td>974.50</td>\n      <td>950.00</td>\n      <td>957.05</td>\n      <td>970.55</td>\n      <td>684384.292381</td>\n      <td>-22.20</td>\n      <td>26.939891</td>\n      <td>42.386157</td>\n      <td>0.00</td>\n      <td>18.60</td>\n      <td>0.0</td>\n      <td>0.0</td>\n      <td>73.060109</td>\n      <td>0.712245</td>\n      <td>0.0</td>\n    </tr>\n    <tr>\n      <th>5278</th>\n      <td>2021-03-26</td>\n      <td>965.00</td>\n      <td>975.00</td>\n      <td>953.80</td>\n      <td>958.55</td>\n      <td>970.17</td>\n      <td>685367.034762</td>\n      <td>-33.80</td>\n      <td>28.579235</td>\n      <td>34.262295</td>\n      <td>1.50</td>\n      <td>0.00</td>\n      <td>0.0</td>\n      <td>0.0</td>\n      <td>71.420765</td>\n      <td>0.775943</td>\n      <td>0.0</td>\n    </tr>\n    <tr>\n      <th>5279</th>\n      <td>2021-03-30</td>\n      <td>965.00</td>\n      <td>1000.80</td>\n      <td>964.45</td>\n      <td>995.80</td>\n      <td>973.58</td>\n      <td>687199.973810</td>\n      <td>-11.45</td>\n      <td>69.289617</td>\n      <td>41.602914</td>\n      <td>37.25</td>\n      <td>0.00</td>\n      <td>0.0</td>\n      <td>0.0</td>\n      <td>30.710383</td>\n      <td>0.137552</td>\n      <td>0.0</td>\n    </tr>\n    <tr>\n      <th>5280</th>\n      <td>2021-03-31</td>\n      <td>1000.00</td>\n      <td>1000.00</td>\n      <td>978.65</td>\n      <td>982.65</td>\n      <td>973.94</td>\n      <td>687807.531905</td>\n      <td>-4.80</td>\n      <td>54.918033</td>\n      <td>50.928962</td>\n      <td>0.00</td>\n      <td>13.15</td>\n      <td>0.0</td>\n      <td>0.0</td>\n      <td>45.081967</td>\n      <td>0.812646</td>\n      <td>0.0</td>\n    </tr>\n  </tbody>\n</table>\n<p>5281 rows × 17 columns</p>\n</div>"
     },
     "metadata": {},
     "execution_count": 30
    }
   ],
   "source": [
    "df"
   ]
  },
  {
   "cell_type": "code",
   "execution_count": 31,
   "metadata": {},
   "outputs": [],
   "source": [
    "df['Relative_strength_index']=(100)-(100/(1+(df['U'].rolling(window=10).mean()/df['D'].rolling(window=10).mean())))\n"
   ]
  },
  {
   "cell_type": "code",
   "execution_count": 32,
   "metadata": {},
   "outputs": [
    {
     "output_type": "execute_result",
     "data": {
      "text/plain": [
       "            Date     Open     High      Low    Close  5-DAY_SMA  \\\n",
       "0     2000-01-11  1550.00  1725.00  1492.00  1554.45       0.00   \n",
       "1     2000-01-12  1560.00  1678.85  1560.00  1678.85       0.00   \n",
       "2     2000-01-13  1790.00  1813.20  1781.00  1813.20       0.00   \n",
       "3     2000-01-14  1958.30  1958.30  1835.00  1958.30       0.00   \n",
       "4     2000-01-17  2115.00  2115.00  1801.65  1801.65    1761.29   \n",
       "...          ...      ...      ...      ...      ...        ...   \n",
       "5276  2021-03-24   971.05   984.75   965.80   975.65     968.69   \n",
       "5277  2021-03-25   970.00   974.50   950.00   957.05     970.55   \n",
       "5278  2021-03-26   965.00   975.00   953.80   958.55     970.17   \n",
       "5279  2021-03-30   965.00  1000.80   964.45   995.80     973.58   \n",
       "5280  2021-03-31  1000.00  1000.00   978.65   982.65     973.94   \n",
       "\n",
       "         14-DAY_WMA  Momentum  Stochastic K%  Stochastic D%       U       D  \\\n",
       "0          0.000000      0.00       0.000000       0.000000     NaN     NaN   \n",
       "1          0.000000      0.00       0.000000       0.000000  124.40    0.00   \n",
       "2          0.000000      0.00       0.000000       0.000000  134.35    0.00   \n",
       "3          0.000000      0.00       0.000000       0.000000  145.10    0.00   \n",
       "4          0.000000      0.00       0.000000       0.000000    0.00  156.65   \n",
       "...             ...       ...            ...            ...     ...     ...   \n",
       "5276  684304.312381    -12.85      47.267760      50.291439    0.00    5.20   \n",
       "5277  684384.292381    -22.20      26.939891      42.386157    0.00   18.60   \n",
       "5278  685367.034762    -33.80      28.579235      34.262295    1.50    0.00   \n",
       "5279  687199.973810    -11.45      69.289617      41.602914   37.25    0.00   \n",
       "5280  687807.531905     -4.80      54.918033      50.928962    0.00   13.15   \n",
       "\n",
       "      Relative_strength_index  Signal(10)  Larry_William_R%       ADO  CCI  \n",
       "0                         NaN         0.0          0.000000  0.731974  0.0  \n",
       "1                         NaN         0.0          0.000000  0.000000  0.0  \n",
       "2                         NaN         0.0          0.000000  0.000000  0.0  \n",
       "3                         NaN         0.0          0.000000  0.000000  0.0  \n",
       "4                         NaN         0.0          0.000000  1.000000  0.0  \n",
       "...                       ...         ...               ...       ...  ...  \n",
       "5276                50.831117         0.0         52.732240  0.480211  0.0  \n",
       "5277                39.765701         0.0         73.060109  0.712245  0.0  \n",
       "5278                42.906100         0.0         71.420765  0.775943  0.0  \n",
       "5279                51.014408         0.0         30.710383  0.137552  0.0  \n",
       "5280                42.691622         0.0         45.081967  0.812646  0.0  \n",
       "\n",
       "[5281 rows x 17 columns]"
      ],
      "text/html": "<div>\n<style scoped>\n    .dataframe tbody tr th:only-of-type {\n        vertical-align: middle;\n    }\n\n    .dataframe tbody tr th {\n        vertical-align: top;\n    }\n\n    .dataframe thead th {\n        text-align: right;\n    }\n</style>\n<table border=\"1\" class=\"dataframe\">\n  <thead>\n    <tr style=\"text-align: right;\">\n      <th></th>\n      <th>Date</th>\n      <th>Open</th>\n      <th>High</th>\n      <th>Low</th>\n      <th>Close</th>\n      <th>5-DAY_SMA</th>\n      <th>14-DAY_WMA</th>\n      <th>Momentum</th>\n      <th>Stochastic K%</th>\n      <th>Stochastic D%</th>\n      <th>U</th>\n      <th>D</th>\n      <th>Relative_strength_index</th>\n      <th>Signal(10)</th>\n      <th>Larry_William_R%</th>\n      <th>ADO</th>\n      <th>CCI</th>\n    </tr>\n  </thead>\n  <tbody>\n    <tr>\n      <th>0</th>\n      <td>2000-01-11</td>\n      <td>1550.00</td>\n      <td>1725.00</td>\n      <td>1492.00</td>\n      <td>1554.45</td>\n      <td>0.00</td>\n      <td>0.000000</td>\n      <td>0.00</td>\n      <td>0.000000</td>\n      <td>0.000000</td>\n      <td>NaN</td>\n      <td>NaN</td>\n      <td>NaN</td>\n      <td>0.0</td>\n      <td>0.000000</td>\n      <td>0.731974</td>\n      <td>0.0</td>\n    </tr>\n    <tr>\n      <th>1</th>\n      <td>2000-01-12</td>\n      <td>1560.00</td>\n      <td>1678.85</td>\n      <td>1560.00</td>\n      <td>1678.85</td>\n      <td>0.00</td>\n      <td>0.000000</td>\n      <td>0.00</td>\n      <td>0.000000</td>\n      <td>0.000000</td>\n      <td>124.40</td>\n      <td>0.00</td>\n      <td>NaN</td>\n      <td>0.0</td>\n      <td>0.000000</td>\n      <td>0.000000</td>\n      <td>0.0</td>\n    </tr>\n    <tr>\n      <th>2</th>\n      <td>2000-01-13</td>\n      <td>1790.00</td>\n      <td>1813.20</td>\n      <td>1781.00</td>\n      <td>1813.20</td>\n      <td>0.00</td>\n      <td>0.000000</td>\n      <td>0.00</td>\n      <td>0.000000</td>\n      <td>0.000000</td>\n      <td>134.35</td>\n      <td>0.00</td>\n      <td>NaN</td>\n      <td>0.0</td>\n      <td>0.000000</td>\n      <td>0.000000</td>\n      <td>0.0</td>\n    </tr>\n    <tr>\n      <th>3</th>\n      <td>2000-01-14</td>\n      <td>1958.30</td>\n      <td>1958.30</td>\n      <td>1835.00</td>\n      <td>1958.30</td>\n      <td>0.00</td>\n      <td>0.000000</td>\n      <td>0.00</td>\n      <td>0.000000</td>\n      <td>0.000000</td>\n      <td>145.10</td>\n      <td>0.00</td>\n      <td>NaN</td>\n      <td>0.0</td>\n      <td>0.000000</td>\n      <td>0.000000</td>\n      <td>0.0</td>\n    </tr>\n    <tr>\n      <th>4</th>\n      <td>2000-01-17</td>\n      <td>2115.00</td>\n      <td>2115.00</td>\n      <td>1801.65</td>\n      <td>1801.65</td>\n      <td>1761.29</td>\n      <td>0.000000</td>\n      <td>0.00</td>\n      <td>0.000000</td>\n      <td>0.000000</td>\n      <td>0.00</td>\n      <td>156.65</td>\n      <td>NaN</td>\n      <td>0.0</td>\n      <td>0.000000</td>\n      <td>1.000000</td>\n      <td>0.0</td>\n    </tr>\n    <tr>\n      <th>...</th>\n      <td>...</td>\n      <td>...</td>\n      <td>...</td>\n      <td>...</td>\n      <td>...</td>\n      <td>...</td>\n      <td>...</td>\n      <td>...</td>\n      <td>...</td>\n      <td>...</td>\n      <td>...</td>\n      <td>...</td>\n      <td>...</td>\n      <td>...</td>\n      <td>...</td>\n      <td>...</td>\n      <td>...</td>\n    </tr>\n    <tr>\n      <th>5276</th>\n      <td>2021-03-24</td>\n      <td>971.05</td>\n      <td>984.75</td>\n      <td>965.80</td>\n      <td>975.65</td>\n      <td>968.69</td>\n      <td>684304.312381</td>\n      <td>-12.85</td>\n      <td>47.267760</td>\n      <td>50.291439</td>\n      <td>0.00</td>\n      <td>5.20</td>\n      <td>50.831117</td>\n      <td>0.0</td>\n      <td>52.732240</td>\n      <td>0.480211</td>\n      <td>0.0</td>\n    </tr>\n    <tr>\n      <th>5277</th>\n      <td>2021-03-25</td>\n      <td>970.00</td>\n      <td>974.50</td>\n      <td>950.00</td>\n      <td>957.05</td>\n      <td>970.55</td>\n      <td>684384.292381</td>\n      <td>-22.20</td>\n      <td>26.939891</td>\n      <td>42.386157</td>\n      <td>0.00</td>\n      <td>18.60</td>\n      <td>39.765701</td>\n      <td>0.0</td>\n      <td>73.060109</td>\n      <td>0.712245</td>\n      <td>0.0</td>\n    </tr>\n    <tr>\n      <th>5278</th>\n      <td>2021-03-26</td>\n      <td>965.00</td>\n      <td>975.00</td>\n      <td>953.80</td>\n      <td>958.55</td>\n      <td>970.17</td>\n      <td>685367.034762</td>\n      <td>-33.80</td>\n      <td>28.579235</td>\n      <td>34.262295</td>\n      <td>1.50</td>\n      <td>0.00</td>\n      <td>42.906100</td>\n      <td>0.0</td>\n      <td>71.420765</td>\n      <td>0.775943</td>\n      <td>0.0</td>\n    </tr>\n    <tr>\n      <th>5279</th>\n      <td>2021-03-30</td>\n      <td>965.00</td>\n      <td>1000.80</td>\n      <td>964.45</td>\n      <td>995.80</td>\n      <td>973.58</td>\n      <td>687199.973810</td>\n      <td>-11.45</td>\n      <td>69.289617</td>\n      <td>41.602914</td>\n      <td>37.25</td>\n      <td>0.00</td>\n      <td>51.014408</td>\n      <td>0.0</td>\n      <td>30.710383</td>\n      <td>0.137552</td>\n      <td>0.0</td>\n    </tr>\n    <tr>\n      <th>5280</th>\n      <td>2021-03-31</td>\n      <td>1000.00</td>\n      <td>1000.00</td>\n      <td>978.65</td>\n      <td>982.65</td>\n      <td>973.94</td>\n      <td>687807.531905</td>\n      <td>-4.80</td>\n      <td>54.918033</td>\n      <td>50.928962</td>\n      <td>0.00</td>\n      <td>13.15</td>\n      <td>42.691622</td>\n      <td>0.0</td>\n      <td>45.081967</td>\n      <td>0.812646</td>\n      <td>0.0</td>\n    </tr>\n  </tbody>\n</table>\n<p>5281 rows × 17 columns</p>\n</div>"
     },
     "metadata": {},
     "execution_count": 32
    }
   ],
   "source": [
    "df"
   ]
  },
  {
   "source": [
    "CALCULATING SIGNAL"
   ],
   "cell_type": "markdown",
   "metadata": {}
  },
  {
   "cell_type": "code",
   "execution_count": 33,
   "metadata": {},
   "outputs": [],
   "source": [
    "macd=(df['Close'].ewm(span=12,adjust=False).mean()- df['Close'].ewm(span=26,adjust=False).mean())\n",
    "df['Signal(10)']=macd.ewm(span=9, adjust=False).mean()"
   ]
  },
  {
   "cell_type": "code",
   "execution_count": 34,
   "metadata": {},
   "outputs": [
    {
     "output_type": "execute_result",
     "data": {
      "text/plain": [
       "            Date     Open     High      Low    Close  5-DAY_SMA  \\\n",
       "0     2000-01-11  1550.00  1725.00  1492.00  1554.45       0.00   \n",
       "1     2000-01-12  1560.00  1678.85  1560.00  1678.85       0.00   \n",
       "2     2000-01-13  1790.00  1813.20  1781.00  1813.20       0.00   \n",
       "3     2000-01-14  1958.30  1958.30  1835.00  1958.30       0.00   \n",
       "4     2000-01-17  2115.00  2115.00  1801.65  1801.65    1761.29   \n",
       "...          ...      ...      ...      ...      ...        ...   \n",
       "5276  2021-03-24   971.05   984.75   965.80   975.65     968.69   \n",
       "5277  2021-03-25   970.00   974.50   950.00   957.05     970.55   \n",
       "5278  2021-03-26   965.00   975.00   953.80   958.55     970.17   \n",
       "5279  2021-03-30   965.00  1000.80   964.45   995.80     973.58   \n",
       "5280  2021-03-31  1000.00  1000.00   978.65   982.65     973.94   \n",
       "\n",
       "         14-DAY_WMA  Momentum  Stochastic K%  Stochastic D%       U       D  \\\n",
       "0          0.000000      0.00       0.000000       0.000000     NaN     NaN   \n",
       "1          0.000000      0.00       0.000000       0.000000  124.40    0.00   \n",
       "2          0.000000      0.00       0.000000       0.000000  134.35    0.00   \n",
       "3          0.000000      0.00       0.000000       0.000000  145.10    0.00   \n",
       "4          0.000000      0.00       0.000000       0.000000    0.00  156.65   \n",
       "...             ...       ...            ...            ...     ...     ...   \n",
       "5276  684304.312381    -12.85      47.267760      50.291439    0.00    5.20   \n",
       "5277  684384.292381    -22.20      26.939891      42.386157    0.00   18.60   \n",
       "5278  685367.034762    -33.80      28.579235      34.262295    1.50    0.00   \n",
       "5279  687199.973810    -11.45      69.289617      41.602914   37.25    0.00   \n",
       "5280  687807.531905     -4.80      54.918033      50.928962    0.00   13.15   \n",
       "\n",
       "      Relative_strength_index  Signal(10)  Larry_William_R%       ADO  CCI  \n",
       "0                         NaN    0.000000          0.000000  0.731974  0.0  \n",
       "1                         NaN    1.984729          0.000000  0.000000  0.0  \n",
       "2                         NaN    7.248358          0.000000  0.000000  0.0  \n",
       "3                         NaN   16.589674          0.000000  0.000000  0.0  \n",
       "4                         NaN   25.460049          0.000000  1.000000  0.0  \n",
       "...                       ...         ...               ...       ...  ...  \n",
       "5276                50.831117    6.870253         52.732240  0.480211  0.0  \n",
       "5277                39.765701    6.660373         73.060109  0.712245  0.0  \n",
       "5278                42.906100    6.226152         71.420765  0.775943  0.0  \n",
       "5279                51.014408    6.254193         30.710383  0.137552  0.0  \n",
       "5280                42.691622    6.346446         45.081967  0.812646  0.0  \n",
       "\n",
       "[5281 rows x 17 columns]"
      ],
      "text/html": "<div>\n<style scoped>\n    .dataframe tbody tr th:only-of-type {\n        vertical-align: middle;\n    }\n\n    .dataframe tbody tr th {\n        vertical-align: top;\n    }\n\n    .dataframe thead th {\n        text-align: right;\n    }\n</style>\n<table border=\"1\" class=\"dataframe\">\n  <thead>\n    <tr style=\"text-align: right;\">\n      <th></th>\n      <th>Date</th>\n      <th>Open</th>\n      <th>High</th>\n      <th>Low</th>\n      <th>Close</th>\n      <th>5-DAY_SMA</th>\n      <th>14-DAY_WMA</th>\n      <th>Momentum</th>\n      <th>Stochastic K%</th>\n      <th>Stochastic D%</th>\n      <th>U</th>\n      <th>D</th>\n      <th>Relative_strength_index</th>\n      <th>Signal(10)</th>\n      <th>Larry_William_R%</th>\n      <th>ADO</th>\n      <th>CCI</th>\n    </tr>\n  </thead>\n  <tbody>\n    <tr>\n      <th>0</th>\n      <td>2000-01-11</td>\n      <td>1550.00</td>\n      <td>1725.00</td>\n      <td>1492.00</td>\n      <td>1554.45</td>\n      <td>0.00</td>\n      <td>0.000000</td>\n      <td>0.00</td>\n      <td>0.000000</td>\n      <td>0.000000</td>\n      <td>NaN</td>\n      <td>NaN</td>\n      <td>NaN</td>\n      <td>0.000000</td>\n      <td>0.000000</td>\n      <td>0.731974</td>\n      <td>0.0</td>\n    </tr>\n    <tr>\n      <th>1</th>\n      <td>2000-01-12</td>\n      <td>1560.00</td>\n      <td>1678.85</td>\n      <td>1560.00</td>\n      <td>1678.85</td>\n      <td>0.00</td>\n      <td>0.000000</td>\n      <td>0.00</td>\n      <td>0.000000</td>\n      <td>0.000000</td>\n      <td>124.40</td>\n      <td>0.00</td>\n      <td>NaN</td>\n      <td>1.984729</td>\n      <td>0.000000</td>\n      <td>0.000000</td>\n      <td>0.0</td>\n    </tr>\n    <tr>\n      <th>2</th>\n      <td>2000-01-13</td>\n      <td>1790.00</td>\n      <td>1813.20</td>\n      <td>1781.00</td>\n      <td>1813.20</td>\n      <td>0.00</td>\n      <td>0.000000</td>\n      <td>0.00</td>\n      <td>0.000000</td>\n      <td>0.000000</td>\n      <td>134.35</td>\n      <td>0.00</td>\n      <td>NaN</td>\n      <td>7.248358</td>\n      <td>0.000000</td>\n      <td>0.000000</td>\n      <td>0.0</td>\n    </tr>\n    <tr>\n      <th>3</th>\n      <td>2000-01-14</td>\n      <td>1958.30</td>\n      <td>1958.30</td>\n      <td>1835.00</td>\n      <td>1958.30</td>\n      <td>0.00</td>\n      <td>0.000000</td>\n      <td>0.00</td>\n      <td>0.000000</td>\n      <td>0.000000</td>\n      <td>145.10</td>\n      <td>0.00</td>\n      <td>NaN</td>\n      <td>16.589674</td>\n      <td>0.000000</td>\n      <td>0.000000</td>\n      <td>0.0</td>\n    </tr>\n    <tr>\n      <th>4</th>\n      <td>2000-01-17</td>\n      <td>2115.00</td>\n      <td>2115.00</td>\n      <td>1801.65</td>\n      <td>1801.65</td>\n      <td>1761.29</td>\n      <td>0.000000</td>\n      <td>0.00</td>\n      <td>0.000000</td>\n      <td>0.000000</td>\n      <td>0.00</td>\n      <td>156.65</td>\n      <td>NaN</td>\n      <td>25.460049</td>\n      <td>0.000000</td>\n      <td>1.000000</td>\n      <td>0.0</td>\n    </tr>\n    <tr>\n      <th>...</th>\n      <td>...</td>\n      <td>...</td>\n      <td>...</td>\n      <td>...</td>\n      <td>...</td>\n      <td>...</td>\n      <td>...</td>\n      <td>...</td>\n      <td>...</td>\n      <td>...</td>\n      <td>...</td>\n      <td>...</td>\n      <td>...</td>\n      <td>...</td>\n      <td>...</td>\n      <td>...</td>\n      <td>...</td>\n    </tr>\n    <tr>\n      <th>5276</th>\n      <td>2021-03-24</td>\n      <td>971.05</td>\n      <td>984.75</td>\n      <td>965.80</td>\n      <td>975.65</td>\n      <td>968.69</td>\n      <td>684304.312381</td>\n      <td>-12.85</td>\n      <td>47.267760</td>\n      <td>50.291439</td>\n      <td>0.00</td>\n      <td>5.20</td>\n      <td>50.831117</td>\n      <td>6.870253</td>\n      <td>52.732240</td>\n      <td>0.480211</td>\n      <td>0.0</td>\n    </tr>\n    <tr>\n      <th>5277</th>\n      <td>2021-03-25</td>\n      <td>970.00</td>\n      <td>974.50</td>\n      <td>950.00</td>\n      <td>957.05</td>\n      <td>970.55</td>\n      <td>684384.292381</td>\n      <td>-22.20</td>\n      <td>26.939891</td>\n      <td>42.386157</td>\n      <td>0.00</td>\n      <td>18.60</td>\n      <td>39.765701</td>\n      <td>6.660373</td>\n      <td>73.060109</td>\n      <td>0.712245</td>\n      <td>0.0</td>\n    </tr>\n    <tr>\n      <th>5278</th>\n      <td>2021-03-26</td>\n      <td>965.00</td>\n      <td>975.00</td>\n      <td>953.80</td>\n      <td>958.55</td>\n      <td>970.17</td>\n      <td>685367.034762</td>\n      <td>-33.80</td>\n      <td>28.579235</td>\n      <td>34.262295</td>\n      <td>1.50</td>\n      <td>0.00</td>\n      <td>42.906100</td>\n      <td>6.226152</td>\n      <td>71.420765</td>\n      <td>0.775943</td>\n      <td>0.0</td>\n    </tr>\n    <tr>\n      <th>5279</th>\n      <td>2021-03-30</td>\n      <td>965.00</td>\n      <td>1000.80</td>\n      <td>964.45</td>\n      <td>995.80</td>\n      <td>973.58</td>\n      <td>687199.973810</td>\n      <td>-11.45</td>\n      <td>69.289617</td>\n      <td>41.602914</td>\n      <td>37.25</td>\n      <td>0.00</td>\n      <td>51.014408</td>\n      <td>6.254193</td>\n      <td>30.710383</td>\n      <td>0.137552</td>\n      <td>0.0</td>\n    </tr>\n    <tr>\n      <th>5280</th>\n      <td>2021-03-31</td>\n      <td>1000.00</td>\n      <td>1000.00</td>\n      <td>978.65</td>\n      <td>982.65</td>\n      <td>973.94</td>\n      <td>687807.531905</td>\n      <td>-4.80</td>\n      <td>54.918033</td>\n      <td>50.928962</td>\n      <td>0.00</td>\n      <td>13.15</td>\n      <td>42.691622</td>\n      <td>6.346446</td>\n      <td>45.081967</td>\n      <td>0.812646</td>\n      <td>0.0</td>\n    </tr>\n  </tbody>\n</table>\n<p>5281 rows × 17 columns</p>\n</div>"
     },
     "metadata": {},
     "execution_count": 34
    }
   ],
   "source": [
    "df"
   ]
  },
  {
   "cell_type": "code",
   "execution_count": 35,
   "metadata": {},
   "outputs": [],
   "source": [
    "df['TP'] = (df['High'] + df['Low'] + df['Close']) / 3 \n",
    "df['sma'] = df['TP'].rolling(10).mean()\n",
    "df['mad'] = df['TP'].rolling(10).apply(lambda x: pd.Series(x).mad())\n",
    "df['CCI'] = (df['TP'] - df['sma']) / (0.015 * df['mad'])"
   ]
  },
  {
   "cell_type": "code",
   "execution_count": 36,
   "metadata": {},
   "outputs": [],
   "source": [
    "df.drop(columns=['TP','sma','mad'],inplace=True)"
   ]
  },
  {
   "cell_type": "code",
   "execution_count": 37,
   "metadata": {},
   "outputs": [
    {
     "output_type": "execute_result",
     "data": {
      "text/plain": [
       "            Date     Open     High      Low    Close  5-DAY_SMA  \\\n",
       "0     2000-01-11  1550.00  1725.00  1492.00  1554.45       0.00   \n",
       "1     2000-01-12  1560.00  1678.85  1560.00  1678.85       0.00   \n",
       "2     2000-01-13  1790.00  1813.20  1781.00  1813.20       0.00   \n",
       "3     2000-01-14  1958.30  1958.30  1835.00  1958.30       0.00   \n",
       "4     2000-01-17  2115.00  2115.00  1801.65  1801.65    1761.29   \n",
       "...          ...      ...      ...      ...      ...        ...   \n",
       "5276  2021-03-24   971.05   984.75   965.80   975.65     968.69   \n",
       "5277  2021-03-25   970.00   974.50   950.00   957.05     970.55   \n",
       "5278  2021-03-26   965.00   975.00   953.80   958.55     970.17   \n",
       "5279  2021-03-30   965.00  1000.80   964.45   995.80     973.58   \n",
       "5280  2021-03-31  1000.00  1000.00   978.65   982.65     973.94   \n",
       "\n",
       "         14-DAY_WMA  Momentum  Stochastic K%  Stochastic D%       U       D  \\\n",
       "0          0.000000      0.00       0.000000       0.000000     NaN     NaN   \n",
       "1          0.000000      0.00       0.000000       0.000000  124.40    0.00   \n",
       "2          0.000000      0.00       0.000000       0.000000  134.35    0.00   \n",
       "3          0.000000      0.00       0.000000       0.000000  145.10    0.00   \n",
       "4          0.000000      0.00       0.000000       0.000000    0.00  156.65   \n",
       "...             ...       ...            ...            ...     ...     ...   \n",
       "5276  684304.312381    -12.85      47.267760      50.291439    0.00    5.20   \n",
       "5277  684384.292381    -22.20      26.939891      42.386157    0.00   18.60   \n",
       "5278  685367.034762    -33.80      28.579235      34.262295    1.50    0.00   \n",
       "5279  687199.973810    -11.45      69.289617      41.602914   37.25    0.00   \n",
       "5280  687807.531905     -4.80      54.918033      50.928962    0.00   13.15   \n",
       "\n",
       "      Relative_strength_index  Signal(10)  Larry_William_R%       ADO  \\\n",
       "0                         NaN    0.000000          0.000000  0.731974   \n",
       "1                         NaN    1.984729          0.000000  0.000000   \n",
       "2                         NaN    7.248358          0.000000  0.000000   \n",
       "3                         NaN   16.589674          0.000000  0.000000   \n",
       "4                         NaN   25.460049          0.000000  1.000000   \n",
       "...                       ...         ...               ...       ...   \n",
       "5276                50.831117    6.870253         52.732240  0.480211   \n",
       "5277                39.765701    6.660373         73.060109  0.712245   \n",
       "5278                42.906100    6.226152         71.420765  0.775943   \n",
       "5279                51.014408    6.254193         30.710383  0.137552   \n",
       "5280                42.691622    6.346446         45.081967  0.812646   \n",
       "\n",
       "            CCI  \n",
       "0           NaN  \n",
       "1           NaN  \n",
       "2           NaN  \n",
       "3           NaN  \n",
       "4           NaN  \n",
       "...         ...  \n",
       "5276 -26.446266  \n",
       "5277 -84.057256  \n",
       "5278 -61.842740  \n",
       "5279  54.537129  \n",
       "5280  73.344250  \n",
       "\n",
       "[5281 rows x 17 columns]"
      ],
      "text/html": "<div>\n<style scoped>\n    .dataframe tbody tr th:only-of-type {\n        vertical-align: middle;\n    }\n\n    .dataframe tbody tr th {\n        vertical-align: top;\n    }\n\n    .dataframe thead th {\n        text-align: right;\n    }\n</style>\n<table border=\"1\" class=\"dataframe\">\n  <thead>\n    <tr style=\"text-align: right;\">\n      <th></th>\n      <th>Date</th>\n      <th>Open</th>\n      <th>High</th>\n      <th>Low</th>\n      <th>Close</th>\n      <th>5-DAY_SMA</th>\n      <th>14-DAY_WMA</th>\n      <th>Momentum</th>\n      <th>Stochastic K%</th>\n      <th>Stochastic D%</th>\n      <th>U</th>\n      <th>D</th>\n      <th>Relative_strength_index</th>\n      <th>Signal(10)</th>\n      <th>Larry_William_R%</th>\n      <th>ADO</th>\n      <th>CCI</th>\n    </tr>\n  </thead>\n  <tbody>\n    <tr>\n      <th>0</th>\n      <td>2000-01-11</td>\n      <td>1550.00</td>\n      <td>1725.00</td>\n      <td>1492.00</td>\n      <td>1554.45</td>\n      <td>0.00</td>\n      <td>0.000000</td>\n      <td>0.00</td>\n      <td>0.000000</td>\n      <td>0.000000</td>\n      <td>NaN</td>\n      <td>NaN</td>\n      <td>NaN</td>\n      <td>0.000000</td>\n      <td>0.000000</td>\n      <td>0.731974</td>\n      <td>NaN</td>\n    </tr>\n    <tr>\n      <th>1</th>\n      <td>2000-01-12</td>\n      <td>1560.00</td>\n      <td>1678.85</td>\n      <td>1560.00</td>\n      <td>1678.85</td>\n      <td>0.00</td>\n      <td>0.000000</td>\n      <td>0.00</td>\n      <td>0.000000</td>\n      <td>0.000000</td>\n      <td>124.40</td>\n      <td>0.00</td>\n      <td>NaN</td>\n      <td>1.984729</td>\n      <td>0.000000</td>\n      <td>0.000000</td>\n      <td>NaN</td>\n    </tr>\n    <tr>\n      <th>2</th>\n      <td>2000-01-13</td>\n      <td>1790.00</td>\n      <td>1813.20</td>\n      <td>1781.00</td>\n      <td>1813.20</td>\n      <td>0.00</td>\n      <td>0.000000</td>\n      <td>0.00</td>\n      <td>0.000000</td>\n      <td>0.000000</td>\n      <td>134.35</td>\n      <td>0.00</td>\n      <td>NaN</td>\n      <td>7.248358</td>\n      <td>0.000000</td>\n      <td>0.000000</td>\n      <td>NaN</td>\n    </tr>\n    <tr>\n      <th>3</th>\n      <td>2000-01-14</td>\n      <td>1958.30</td>\n      <td>1958.30</td>\n      <td>1835.00</td>\n      <td>1958.30</td>\n      <td>0.00</td>\n      <td>0.000000</td>\n      <td>0.00</td>\n      <td>0.000000</td>\n      <td>0.000000</td>\n      <td>145.10</td>\n      <td>0.00</td>\n      <td>NaN</td>\n      <td>16.589674</td>\n      <td>0.000000</td>\n      <td>0.000000</td>\n      <td>NaN</td>\n    </tr>\n    <tr>\n      <th>4</th>\n      <td>2000-01-17</td>\n      <td>2115.00</td>\n      <td>2115.00</td>\n      <td>1801.65</td>\n      <td>1801.65</td>\n      <td>1761.29</td>\n      <td>0.000000</td>\n      <td>0.00</td>\n      <td>0.000000</td>\n      <td>0.000000</td>\n      <td>0.00</td>\n      <td>156.65</td>\n      <td>NaN</td>\n      <td>25.460049</td>\n      <td>0.000000</td>\n      <td>1.000000</td>\n      <td>NaN</td>\n    </tr>\n    <tr>\n      <th>...</th>\n      <td>...</td>\n      <td>...</td>\n      <td>...</td>\n      <td>...</td>\n      <td>...</td>\n      <td>...</td>\n      <td>...</td>\n      <td>...</td>\n      <td>...</td>\n      <td>...</td>\n      <td>...</td>\n      <td>...</td>\n      <td>...</td>\n      <td>...</td>\n      <td>...</td>\n      <td>...</td>\n      <td>...</td>\n    </tr>\n    <tr>\n      <th>5276</th>\n      <td>2021-03-24</td>\n      <td>971.05</td>\n      <td>984.75</td>\n      <td>965.80</td>\n      <td>975.65</td>\n      <td>968.69</td>\n      <td>684304.312381</td>\n      <td>-12.85</td>\n      <td>47.267760</td>\n      <td>50.291439</td>\n      <td>0.00</td>\n      <td>5.20</td>\n      <td>50.831117</td>\n      <td>6.870253</td>\n      <td>52.732240</td>\n      <td>0.480211</td>\n      <td>-26.446266</td>\n    </tr>\n    <tr>\n      <th>5277</th>\n      <td>2021-03-25</td>\n      <td>970.00</td>\n      <td>974.50</td>\n      <td>950.00</td>\n      <td>957.05</td>\n      <td>970.55</td>\n      <td>684384.292381</td>\n      <td>-22.20</td>\n      <td>26.939891</td>\n      <td>42.386157</td>\n      <td>0.00</td>\n      <td>18.60</td>\n      <td>39.765701</td>\n      <td>6.660373</td>\n      <td>73.060109</td>\n      <td>0.712245</td>\n      <td>-84.057256</td>\n    </tr>\n    <tr>\n      <th>5278</th>\n      <td>2021-03-26</td>\n      <td>965.00</td>\n      <td>975.00</td>\n      <td>953.80</td>\n      <td>958.55</td>\n      <td>970.17</td>\n      <td>685367.034762</td>\n      <td>-33.80</td>\n      <td>28.579235</td>\n      <td>34.262295</td>\n      <td>1.50</td>\n      <td>0.00</td>\n      <td>42.906100</td>\n      <td>6.226152</td>\n      <td>71.420765</td>\n      <td>0.775943</td>\n      <td>-61.842740</td>\n    </tr>\n    <tr>\n      <th>5279</th>\n      <td>2021-03-30</td>\n      <td>965.00</td>\n      <td>1000.80</td>\n      <td>964.45</td>\n      <td>995.80</td>\n      <td>973.58</td>\n      <td>687199.973810</td>\n      <td>-11.45</td>\n      <td>69.289617</td>\n      <td>41.602914</td>\n      <td>37.25</td>\n      <td>0.00</td>\n      <td>51.014408</td>\n      <td>6.254193</td>\n      <td>30.710383</td>\n      <td>0.137552</td>\n      <td>54.537129</td>\n    </tr>\n    <tr>\n      <th>5280</th>\n      <td>2021-03-31</td>\n      <td>1000.00</td>\n      <td>1000.00</td>\n      <td>978.65</td>\n      <td>982.65</td>\n      <td>973.94</td>\n      <td>687807.531905</td>\n      <td>-4.80</td>\n      <td>54.918033</td>\n      <td>50.928962</td>\n      <td>0.00</td>\n      <td>13.15</td>\n      <td>42.691622</td>\n      <td>6.346446</td>\n      <td>45.081967</td>\n      <td>0.812646</td>\n      <td>73.344250</td>\n    </tr>\n  </tbody>\n</table>\n<p>5281 rows × 17 columns</p>\n</div>"
     },
     "metadata": {},
     "execution_count": 37
    }
   ],
   "source": [
    "df"
   ]
  },
  {
   "cell_type": "code",
   "execution_count": 38,
   "metadata": {},
   "outputs": [],
   "source": [
    "df=df.fillna(0)"
   ]
  },
  {
   "cell_type": "code",
   "execution_count": 39,
   "metadata": {},
   "outputs": [
    {
     "output_type": "execute_result",
     "data": {
      "text/plain": [
       "            Date     Open     High      Low    Close  5-DAY_SMA  \\\n",
       "0     2000-01-11  1550.00  1725.00  1492.00  1554.45       0.00   \n",
       "1     2000-01-12  1560.00  1678.85  1560.00  1678.85       0.00   \n",
       "2     2000-01-13  1790.00  1813.20  1781.00  1813.20       0.00   \n",
       "3     2000-01-14  1958.30  1958.30  1835.00  1958.30       0.00   \n",
       "4     2000-01-17  2115.00  2115.00  1801.65  1801.65    1761.29   \n",
       "...          ...      ...      ...      ...      ...        ...   \n",
       "5276  2021-03-24   971.05   984.75   965.80   975.65     968.69   \n",
       "5277  2021-03-25   970.00   974.50   950.00   957.05     970.55   \n",
       "5278  2021-03-26   965.00   975.00   953.80   958.55     970.17   \n",
       "5279  2021-03-30   965.00  1000.80   964.45   995.80     973.58   \n",
       "5280  2021-03-31  1000.00  1000.00   978.65   982.65     973.94   \n",
       "\n",
       "         14-DAY_WMA  Momentum  Stochastic K%  Stochastic D%       U       D  \\\n",
       "0          0.000000      0.00       0.000000       0.000000    0.00    0.00   \n",
       "1          0.000000      0.00       0.000000       0.000000  124.40    0.00   \n",
       "2          0.000000      0.00       0.000000       0.000000  134.35    0.00   \n",
       "3          0.000000      0.00       0.000000       0.000000  145.10    0.00   \n",
       "4          0.000000      0.00       0.000000       0.000000    0.00  156.65   \n",
       "...             ...       ...            ...            ...     ...     ...   \n",
       "5276  684304.312381    -12.85      47.267760      50.291439    0.00    5.20   \n",
       "5277  684384.292381    -22.20      26.939891      42.386157    0.00   18.60   \n",
       "5278  685367.034762    -33.80      28.579235      34.262295    1.50    0.00   \n",
       "5279  687199.973810    -11.45      69.289617      41.602914   37.25    0.00   \n",
       "5280  687807.531905     -4.80      54.918033      50.928962    0.00   13.15   \n",
       "\n",
       "      Relative_strength_index  Signal(10)  Larry_William_R%       ADO  \\\n",
       "0                    0.000000    0.000000          0.000000  0.731974   \n",
       "1                    0.000000    1.984729          0.000000  0.000000   \n",
       "2                    0.000000    7.248358          0.000000  0.000000   \n",
       "3                    0.000000   16.589674          0.000000  0.000000   \n",
       "4                    0.000000   25.460049          0.000000  1.000000   \n",
       "...                       ...         ...               ...       ...   \n",
       "5276                50.831117    6.870253         52.732240  0.480211   \n",
       "5277                39.765701    6.660373         73.060109  0.712245   \n",
       "5278                42.906100    6.226152         71.420765  0.775943   \n",
       "5279                51.014408    6.254193         30.710383  0.137552   \n",
       "5280                42.691622    6.346446         45.081967  0.812646   \n",
       "\n",
       "            CCI  \n",
       "0      0.000000  \n",
       "1      0.000000  \n",
       "2      0.000000  \n",
       "3      0.000000  \n",
       "4      0.000000  \n",
       "...         ...  \n",
       "5276 -26.446266  \n",
       "5277 -84.057256  \n",
       "5278 -61.842740  \n",
       "5279  54.537129  \n",
       "5280  73.344250  \n",
       "\n",
       "[5281 rows x 17 columns]"
      ],
      "text/html": "<div>\n<style scoped>\n    .dataframe tbody tr th:only-of-type {\n        vertical-align: middle;\n    }\n\n    .dataframe tbody tr th {\n        vertical-align: top;\n    }\n\n    .dataframe thead th {\n        text-align: right;\n    }\n</style>\n<table border=\"1\" class=\"dataframe\">\n  <thead>\n    <tr style=\"text-align: right;\">\n      <th></th>\n      <th>Date</th>\n      <th>Open</th>\n      <th>High</th>\n      <th>Low</th>\n      <th>Close</th>\n      <th>5-DAY_SMA</th>\n      <th>14-DAY_WMA</th>\n      <th>Momentum</th>\n      <th>Stochastic K%</th>\n      <th>Stochastic D%</th>\n      <th>U</th>\n      <th>D</th>\n      <th>Relative_strength_index</th>\n      <th>Signal(10)</th>\n      <th>Larry_William_R%</th>\n      <th>ADO</th>\n      <th>CCI</th>\n    </tr>\n  </thead>\n  <tbody>\n    <tr>\n      <th>0</th>\n      <td>2000-01-11</td>\n      <td>1550.00</td>\n      <td>1725.00</td>\n      <td>1492.00</td>\n      <td>1554.45</td>\n      <td>0.00</td>\n      <td>0.000000</td>\n      <td>0.00</td>\n      <td>0.000000</td>\n      <td>0.000000</td>\n      <td>0.00</td>\n      <td>0.00</td>\n      <td>0.000000</td>\n      <td>0.000000</td>\n      <td>0.000000</td>\n      <td>0.731974</td>\n      <td>0.000000</td>\n    </tr>\n    <tr>\n      <th>1</th>\n      <td>2000-01-12</td>\n      <td>1560.00</td>\n      <td>1678.85</td>\n      <td>1560.00</td>\n      <td>1678.85</td>\n      <td>0.00</td>\n      <td>0.000000</td>\n      <td>0.00</td>\n      <td>0.000000</td>\n      <td>0.000000</td>\n      <td>124.40</td>\n      <td>0.00</td>\n      <td>0.000000</td>\n      <td>1.984729</td>\n      <td>0.000000</td>\n      <td>0.000000</td>\n      <td>0.000000</td>\n    </tr>\n    <tr>\n      <th>2</th>\n      <td>2000-01-13</td>\n      <td>1790.00</td>\n      <td>1813.20</td>\n      <td>1781.00</td>\n      <td>1813.20</td>\n      <td>0.00</td>\n      <td>0.000000</td>\n      <td>0.00</td>\n      <td>0.000000</td>\n      <td>0.000000</td>\n      <td>134.35</td>\n      <td>0.00</td>\n      <td>0.000000</td>\n      <td>7.248358</td>\n      <td>0.000000</td>\n      <td>0.000000</td>\n      <td>0.000000</td>\n    </tr>\n    <tr>\n      <th>3</th>\n      <td>2000-01-14</td>\n      <td>1958.30</td>\n      <td>1958.30</td>\n      <td>1835.00</td>\n      <td>1958.30</td>\n      <td>0.00</td>\n      <td>0.000000</td>\n      <td>0.00</td>\n      <td>0.000000</td>\n      <td>0.000000</td>\n      <td>145.10</td>\n      <td>0.00</td>\n      <td>0.000000</td>\n      <td>16.589674</td>\n      <td>0.000000</td>\n      <td>0.000000</td>\n      <td>0.000000</td>\n    </tr>\n    <tr>\n      <th>4</th>\n      <td>2000-01-17</td>\n      <td>2115.00</td>\n      <td>2115.00</td>\n      <td>1801.65</td>\n      <td>1801.65</td>\n      <td>1761.29</td>\n      <td>0.000000</td>\n      <td>0.00</td>\n      <td>0.000000</td>\n      <td>0.000000</td>\n      <td>0.00</td>\n      <td>156.65</td>\n      <td>0.000000</td>\n      <td>25.460049</td>\n      <td>0.000000</td>\n      <td>1.000000</td>\n      <td>0.000000</td>\n    </tr>\n    <tr>\n      <th>...</th>\n      <td>...</td>\n      <td>...</td>\n      <td>...</td>\n      <td>...</td>\n      <td>...</td>\n      <td>...</td>\n      <td>...</td>\n      <td>...</td>\n      <td>...</td>\n      <td>...</td>\n      <td>...</td>\n      <td>...</td>\n      <td>...</td>\n      <td>...</td>\n      <td>...</td>\n      <td>...</td>\n      <td>...</td>\n    </tr>\n    <tr>\n      <th>5276</th>\n      <td>2021-03-24</td>\n      <td>971.05</td>\n      <td>984.75</td>\n      <td>965.80</td>\n      <td>975.65</td>\n      <td>968.69</td>\n      <td>684304.312381</td>\n      <td>-12.85</td>\n      <td>47.267760</td>\n      <td>50.291439</td>\n      <td>0.00</td>\n      <td>5.20</td>\n      <td>50.831117</td>\n      <td>6.870253</td>\n      <td>52.732240</td>\n      <td>0.480211</td>\n      <td>-26.446266</td>\n    </tr>\n    <tr>\n      <th>5277</th>\n      <td>2021-03-25</td>\n      <td>970.00</td>\n      <td>974.50</td>\n      <td>950.00</td>\n      <td>957.05</td>\n      <td>970.55</td>\n      <td>684384.292381</td>\n      <td>-22.20</td>\n      <td>26.939891</td>\n      <td>42.386157</td>\n      <td>0.00</td>\n      <td>18.60</td>\n      <td>39.765701</td>\n      <td>6.660373</td>\n      <td>73.060109</td>\n      <td>0.712245</td>\n      <td>-84.057256</td>\n    </tr>\n    <tr>\n      <th>5278</th>\n      <td>2021-03-26</td>\n      <td>965.00</td>\n      <td>975.00</td>\n      <td>953.80</td>\n      <td>958.55</td>\n      <td>970.17</td>\n      <td>685367.034762</td>\n      <td>-33.80</td>\n      <td>28.579235</td>\n      <td>34.262295</td>\n      <td>1.50</td>\n      <td>0.00</td>\n      <td>42.906100</td>\n      <td>6.226152</td>\n      <td>71.420765</td>\n      <td>0.775943</td>\n      <td>-61.842740</td>\n    </tr>\n    <tr>\n      <th>5279</th>\n      <td>2021-03-30</td>\n      <td>965.00</td>\n      <td>1000.80</td>\n      <td>964.45</td>\n      <td>995.80</td>\n      <td>973.58</td>\n      <td>687199.973810</td>\n      <td>-11.45</td>\n      <td>69.289617</td>\n      <td>41.602914</td>\n      <td>37.25</td>\n      <td>0.00</td>\n      <td>51.014408</td>\n      <td>6.254193</td>\n      <td>30.710383</td>\n      <td>0.137552</td>\n      <td>54.537129</td>\n    </tr>\n    <tr>\n      <th>5280</th>\n      <td>2021-03-31</td>\n      <td>1000.00</td>\n      <td>1000.00</td>\n      <td>978.65</td>\n      <td>982.65</td>\n      <td>973.94</td>\n      <td>687807.531905</td>\n      <td>-4.80</td>\n      <td>54.918033</td>\n      <td>50.928962</td>\n      <td>0.00</td>\n      <td>13.15</td>\n      <td>42.691622</td>\n      <td>6.346446</td>\n      <td>45.081967</td>\n      <td>0.812646</td>\n      <td>73.344250</td>\n    </tr>\n  </tbody>\n</table>\n<p>5281 rows × 17 columns</p>\n</div>"
     },
     "metadata": {},
     "execution_count": 39
    }
   ],
   "source": [
    "df"
   ]
  },
  {
   "cell_type": "code",
   "execution_count": 40,
   "metadata": {},
   "outputs": [],
   "source": [
    "df.insert(15,'UP/DOWN',0)"
   ]
  },
  {
   "cell_type": "code",
   "execution_count": 41,
   "metadata": {},
   "outputs": [],
   "source": [
    "def up(val):\n",
    "    if val>0:\n",
    "        return 1\n",
    "    else:\n",
    "        return -1"
   ]
  },
  {
   "cell_type": "code",
   "execution_count": 42,
   "metadata": {},
   "outputs": [],
   "source": [
    "df['UP/DOWN']=df['Close'].diff()\n"
   ]
  },
  {
   "cell_type": "code",
   "execution_count": 43,
   "metadata": {},
   "outputs": [
    {
     "output_type": "execute_result",
     "data": {
      "text/plain": [
       "            Date     Open     High      Low    Close  5-DAY_SMA  \\\n",
       "0     2000-01-11  1550.00  1725.00  1492.00  1554.45       0.00   \n",
       "1     2000-01-12  1560.00  1678.85  1560.00  1678.85       0.00   \n",
       "2     2000-01-13  1790.00  1813.20  1781.00  1813.20       0.00   \n",
       "3     2000-01-14  1958.30  1958.30  1835.00  1958.30       0.00   \n",
       "4     2000-01-17  2115.00  2115.00  1801.65  1801.65    1761.29   \n",
       "...          ...      ...      ...      ...      ...        ...   \n",
       "5276  2021-03-24   971.05   984.75   965.80   975.65     968.69   \n",
       "5277  2021-03-25   970.00   974.50   950.00   957.05     970.55   \n",
       "5278  2021-03-26   965.00   975.00   953.80   958.55     970.17   \n",
       "5279  2021-03-30   965.00  1000.80   964.45   995.80     973.58   \n",
       "5280  2021-03-31  1000.00  1000.00   978.65   982.65     973.94   \n",
       "\n",
       "         14-DAY_WMA  Momentum  Stochastic K%  Stochastic D%       U       D  \\\n",
       "0          0.000000      0.00       0.000000       0.000000    0.00    0.00   \n",
       "1          0.000000      0.00       0.000000       0.000000  124.40    0.00   \n",
       "2          0.000000      0.00       0.000000       0.000000  134.35    0.00   \n",
       "3          0.000000      0.00       0.000000       0.000000  145.10    0.00   \n",
       "4          0.000000      0.00       0.000000       0.000000    0.00  156.65   \n",
       "...             ...       ...            ...            ...     ...     ...   \n",
       "5276  684304.312381    -12.85      47.267760      50.291439    0.00    5.20   \n",
       "5277  684384.292381    -22.20      26.939891      42.386157    0.00   18.60   \n",
       "5278  685367.034762    -33.80      28.579235      34.262295    1.50    0.00   \n",
       "5279  687199.973810    -11.45      69.289617      41.602914   37.25    0.00   \n",
       "5280  687807.531905     -4.80      54.918033      50.928962    0.00   13.15   \n",
       "\n",
       "      Relative_strength_index  Signal(10)  Larry_William_R%  UP/DOWN  \\\n",
       "0                    0.000000    0.000000          0.000000      NaN   \n",
       "1                    0.000000    1.984729          0.000000   124.40   \n",
       "2                    0.000000    7.248358          0.000000   134.35   \n",
       "3                    0.000000   16.589674          0.000000   145.10   \n",
       "4                    0.000000   25.460049          0.000000  -156.65   \n",
       "...                       ...         ...               ...      ...   \n",
       "5276                50.831117    6.870253         52.732240    -5.20   \n",
       "5277                39.765701    6.660373         73.060109   -18.60   \n",
       "5278                42.906100    6.226152         71.420765     1.50   \n",
       "5279                51.014408    6.254193         30.710383    37.25   \n",
       "5280                42.691622    6.346446         45.081967   -13.15   \n",
       "\n",
       "           ADO        CCI  \n",
       "0     0.731974   0.000000  \n",
       "1     0.000000   0.000000  \n",
       "2     0.000000   0.000000  \n",
       "3     0.000000   0.000000  \n",
       "4     1.000000   0.000000  \n",
       "...        ...        ...  \n",
       "5276  0.480211 -26.446266  \n",
       "5277  0.712245 -84.057256  \n",
       "5278  0.775943 -61.842740  \n",
       "5279  0.137552  54.537129  \n",
       "5280  0.812646  73.344250  \n",
       "\n",
       "[5281 rows x 18 columns]"
      ],
      "text/html": "<div>\n<style scoped>\n    .dataframe tbody tr th:only-of-type {\n        vertical-align: middle;\n    }\n\n    .dataframe tbody tr th {\n        vertical-align: top;\n    }\n\n    .dataframe thead th {\n        text-align: right;\n    }\n</style>\n<table border=\"1\" class=\"dataframe\">\n  <thead>\n    <tr style=\"text-align: right;\">\n      <th></th>\n      <th>Date</th>\n      <th>Open</th>\n      <th>High</th>\n      <th>Low</th>\n      <th>Close</th>\n      <th>5-DAY_SMA</th>\n      <th>14-DAY_WMA</th>\n      <th>Momentum</th>\n      <th>Stochastic K%</th>\n      <th>Stochastic D%</th>\n      <th>U</th>\n      <th>D</th>\n      <th>Relative_strength_index</th>\n      <th>Signal(10)</th>\n      <th>Larry_William_R%</th>\n      <th>UP/DOWN</th>\n      <th>ADO</th>\n      <th>CCI</th>\n    </tr>\n  </thead>\n  <tbody>\n    <tr>\n      <th>0</th>\n      <td>2000-01-11</td>\n      <td>1550.00</td>\n      <td>1725.00</td>\n      <td>1492.00</td>\n      <td>1554.45</td>\n      <td>0.00</td>\n      <td>0.000000</td>\n      <td>0.00</td>\n      <td>0.000000</td>\n      <td>0.000000</td>\n      <td>0.00</td>\n      <td>0.00</td>\n      <td>0.000000</td>\n      <td>0.000000</td>\n      <td>0.000000</td>\n      <td>NaN</td>\n      <td>0.731974</td>\n      <td>0.000000</td>\n    </tr>\n    <tr>\n      <th>1</th>\n      <td>2000-01-12</td>\n      <td>1560.00</td>\n      <td>1678.85</td>\n      <td>1560.00</td>\n      <td>1678.85</td>\n      <td>0.00</td>\n      <td>0.000000</td>\n      <td>0.00</td>\n      <td>0.000000</td>\n      <td>0.000000</td>\n      <td>124.40</td>\n      <td>0.00</td>\n      <td>0.000000</td>\n      <td>1.984729</td>\n      <td>0.000000</td>\n      <td>124.40</td>\n      <td>0.000000</td>\n      <td>0.000000</td>\n    </tr>\n    <tr>\n      <th>2</th>\n      <td>2000-01-13</td>\n      <td>1790.00</td>\n      <td>1813.20</td>\n      <td>1781.00</td>\n      <td>1813.20</td>\n      <td>0.00</td>\n      <td>0.000000</td>\n      <td>0.00</td>\n      <td>0.000000</td>\n      <td>0.000000</td>\n      <td>134.35</td>\n      <td>0.00</td>\n      <td>0.000000</td>\n      <td>7.248358</td>\n      <td>0.000000</td>\n      <td>134.35</td>\n      <td>0.000000</td>\n      <td>0.000000</td>\n    </tr>\n    <tr>\n      <th>3</th>\n      <td>2000-01-14</td>\n      <td>1958.30</td>\n      <td>1958.30</td>\n      <td>1835.00</td>\n      <td>1958.30</td>\n      <td>0.00</td>\n      <td>0.000000</td>\n      <td>0.00</td>\n      <td>0.000000</td>\n      <td>0.000000</td>\n      <td>145.10</td>\n      <td>0.00</td>\n      <td>0.000000</td>\n      <td>16.589674</td>\n      <td>0.000000</td>\n      <td>145.10</td>\n      <td>0.000000</td>\n      <td>0.000000</td>\n    </tr>\n    <tr>\n      <th>4</th>\n      <td>2000-01-17</td>\n      <td>2115.00</td>\n      <td>2115.00</td>\n      <td>1801.65</td>\n      <td>1801.65</td>\n      <td>1761.29</td>\n      <td>0.000000</td>\n      <td>0.00</td>\n      <td>0.000000</td>\n      <td>0.000000</td>\n      <td>0.00</td>\n      <td>156.65</td>\n      <td>0.000000</td>\n      <td>25.460049</td>\n      <td>0.000000</td>\n      <td>-156.65</td>\n      <td>1.000000</td>\n      <td>0.000000</td>\n    </tr>\n    <tr>\n      <th>...</th>\n      <td>...</td>\n      <td>...</td>\n      <td>...</td>\n      <td>...</td>\n      <td>...</td>\n      <td>...</td>\n      <td>...</td>\n      <td>...</td>\n      <td>...</td>\n      <td>...</td>\n      <td>...</td>\n      <td>...</td>\n      <td>...</td>\n      <td>...</td>\n      <td>...</td>\n      <td>...</td>\n      <td>...</td>\n      <td>...</td>\n    </tr>\n    <tr>\n      <th>5276</th>\n      <td>2021-03-24</td>\n      <td>971.05</td>\n      <td>984.75</td>\n      <td>965.80</td>\n      <td>975.65</td>\n      <td>968.69</td>\n      <td>684304.312381</td>\n      <td>-12.85</td>\n      <td>47.267760</td>\n      <td>50.291439</td>\n      <td>0.00</td>\n      <td>5.20</td>\n      <td>50.831117</td>\n      <td>6.870253</td>\n      <td>52.732240</td>\n      <td>-5.20</td>\n      <td>0.480211</td>\n      <td>-26.446266</td>\n    </tr>\n    <tr>\n      <th>5277</th>\n      <td>2021-03-25</td>\n      <td>970.00</td>\n      <td>974.50</td>\n      <td>950.00</td>\n      <td>957.05</td>\n      <td>970.55</td>\n      <td>684384.292381</td>\n      <td>-22.20</td>\n      <td>26.939891</td>\n      <td>42.386157</td>\n      <td>0.00</td>\n      <td>18.60</td>\n      <td>39.765701</td>\n      <td>6.660373</td>\n      <td>73.060109</td>\n      <td>-18.60</td>\n      <td>0.712245</td>\n      <td>-84.057256</td>\n    </tr>\n    <tr>\n      <th>5278</th>\n      <td>2021-03-26</td>\n      <td>965.00</td>\n      <td>975.00</td>\n      <td>953.80</td>\n      <td>958.55</td>\n      <td>970.17</td>\n      <td>685367.034762</td>\n      <td>-33.80</td>\n      <td>28.579235</td>\n      <td>34.262295</td>\n      <td>1.50</td>\n      <td>0.00</td>\n      <td>42.906100</td>\n      <td>6.226152</td>\n      <td>71.420765</td>\n      <td>1.50</td>\n      <td>0.775943</td>\n      <td>-61.842740</td>\n    </tr>\n    <tr>\n      <th>5279</th>\n      <td>2021-03-30</td>\n      <td>965.00</td>\n      <td>1000.80</td>\n      <td>964.45</td>\n      <td>995.80</td>\n      <td>973.58</td>\n      <td>687199.973810</td>\n      <td>-11.45</td>\n      <td>69.289617</td>\n      <td>41.602914</td>\n      <td>37.25</td>\n      <td>0.00</td>\n      <td>51.014408</td>\n      <td>6.254193</td>\n      <td>30.710383</td>\n      <td>37.25</td>\n      <td>0.137552</td>\n      <td>54.537129</td>\n    </tr>\n    <tr>\n      <th>5280</th>\n      <td>2021-03-31</td>\n      <td>1000.00</td>\n      <td>1000.00</td>\n      <td>978.65</td>\n      <td>982.65</td>\n      <td>973.94</td>\n      <td>687807.531905</td>\n      <td>-4.80</td>\n      <td>54.918033</td>\n      <td>50.928962</td>\n      <td>0.00</td>\n      <td>13.15</td>\n      <td>42.691622</td>\n      <td>6.346446</td>\n      <td>45.081967</td>\n      <td>-13.15</td>\n      <td>0.812646</td>\n      <td>73.344250</td>\n    </tr>\n  </tbody>\n</table>\n<p>5281 rows × 18 columns</p>\n</div>"
     },
     "metadata": {},
     "execution_count": 43
    }
   ],
   "source": [
    "df"
   ]
  },
  {
   "cell_type": "code",
   "execution_count": 44,
   "metadata": {},
   "outputs": [
    {
     "output_type": "stream",
     "name": "stderr",
     "text": [
      "C:\\Users\\Sashank\\anaconda3\\envs\\myenv\\lib\\site-packages\\ipykernel_launcher.py:2: SettingWithCopyWarning: \nA value is trying to be set on a copy of a slice from a DataFrame\n\nSee the caveats in the documentation: https://pandas.pydata.org/pandas-docs/stable/user_guide/indexing.html#returning-a-view-versus-a-copy\n  \n"
     ]
    }
   ],
   "source": [
    "for i in range(0,5280):\n",
    "    df['UP/DOWN'][i]=df['UP/DOWN'][i+1]\n",
    "#df['UP/DOWN']=df['UP/DOWN'].apply(up)"
   ]
  },
  {
   "cell_type": "code",
   "execution_count": 45,
   "metadata": {},
   "outputs": [],
   "source": [
    "df1=df['UP/DOWN']"
   ]
  },
  {
   "cell_type": "code",
   "execution_count": 46,
   "metadata": {},
   "outputs": [
    {
     "output_type": "execute_result",
     "data": {
      "text/plain": [
       "            Date     Open     High      Low    Close  5-DAY_SMA  \\\n",
       "0     2000-01-11  1550.00  1725.00  1492.00  1554.45       0.00   \n",
       "1     2000-01-12  1560.00  1678.85  1560.00  1678.85       0.00   \n",
       "2     2000-01-13  1790.00  1813.20  1781.00  1813.20       0.00   \n",
       "3     2000-01-14  1958.30  1958.30  1835.00  1958.30       0.00   \n",
       "4     2000-01-17  2115.00  2115.00  1801.65  1801.65    1761.29   \n",
       "...          ...      ...      ...      ...      ...        ...   \n",
       "5276  2021-03-24   971.05   984.75   965.80   975.65     968.69   \n",
       "5277  2021-03-25   970.00   974.50   950.00   957.05     970.55   \n",
       "5278  2021-03-26   965.00   975.00   953.80   958.55     970.17   \n",
       "5279  2021-03-30   965.00  1000.80   964.45   995.80     973.58   \n",
       "5280  2021-03-31  1000.00  1000.00   978.65   982.65     973.94   \n",
       "\n",
       "         14-DAY_WMA  Momentum  Stochastic K%  Stochastic D%       U       D  \\\n",
       "0          0.000000      0.00       0.000000       0.000000    0.00    0.00   \n",
       "1          0.000000      0.00       0.000000       0.000000  124.40    0.00   \n",
       "2          0.000000      0.00       0.000000       0.000000  134.35    0.00   \n",
       "3          0.000000      0.00       0.000000       0.000000  145.10    0.00   \n",
       "4          0.000000      0.00       0.000000       0.000000    0.00  156.65   \n",
       "...             ...       ...            ...            ...     ...     ...   \n",
       "5276  684304.312381    -12.85      47.267760      50.291439    0.00    5.20   \n",
       "5277  684384.292381    -22.20      26.939891      42.386157    0.00   18.60   \n",
       "5278  685367.034762    -33.80      28.579235      34.262295    1.50    0.00   \n",
       "5279  687199.973810    -11.45      69.289617      41.602914   37.25    0.00   \n",
       "5280  687807.531905     -4.80      54.918033      50.928962    0.00   13.15   \n",
       "\n",
       "      Relative_strength_index  Signal(10)  Larry_William_R%  UP/DOWN  \\\n",
       "0                    0.000000    0.000000          0.000000        1   \n",
       "1                    0.000000    1.984729          0.000000        1   \n",
       "2                    0.000000    7.248358          0.000000        1   \n",
       "3                    0.000000   16.589674          0.000000       -1   \n",
       "4                    0.000000   25.460049          0.000000       -1   \n",
       "...                       ...         ...               ...      ...   \n",
       "5276                50.831117    6.870253         52.732240       -1   \n",
       "5277                39.765701    6.660373         73.060109        1   \n",
       "5278                42.906100    6.226152         71.420765        1   \n",
       "5279                51.014408    6.254193         30.710383       -1   \n",
       "5280                42.691622    6.346446         45.081967       -1   \n",
       "\n",
       "           ADO        CCI  \n",
       "0     0.731974   0.000000  \n",
       "1     0.000000   0.000000  \n",
       "2     0.000000   0.000000  \n",
       "3     0.000000   0.000000  \n",
       "4     1.000000   0.000000  \n",
       "...        ...        ...  \n",
       "5276  0.480211 -26.446266  \n",
       "5277  0.712245 -84.057256  \n",
       "5278  0.775943 -61.842740  \n",
       "5279  0.137552  54.537129  \n",
       "5280  0.812646  73.344250  \n",
       "\n",
       "[5281 rows x 18 columns]"
      ],
      "text/html": "<div>\n<style scoped>\n    .dataframe tbody tr th:only-of-type {\n        vertical-align: middle;\n    }\n\n    .dataframe tbody tr th {\n        vertical-align: top;\n    }\n\n    .dataframe thead th {\n        text-align: right;\n    }\n</style>\n<table border=\"1\" class=\"dataframe\">\n  <thead>\n    <tr style=\"text-align: right;\">\n      <th></th>\n      <th>Date</th>\n      <th>Open</th>\n      <th>High</th>\n      <th>Low</th>\n      <th>Close</th>\n      <th>5-DAY_SMA</th>\n      <th>14-DAY_WMA</th>\n      <th>Momentum</th>\n      <th>Stochastic K%</th>\n      <th>Stochastic D%</th>\n      <th>U</th>\n      <th>D</th>\n      <th>Relative_strength_index</th>\n      <th>Signal(10)</th>\n      <th>Larry_William_R%</th>\n      <th>UP/DOWN</th>\n      <th>ADO</th>\n      <th>CCI</th>\n    </tr>\n  </thead>\n  <tbody>\n    <tr>\n      <th>0</th>\n      <td>2000-01-11</td>\n      <td>1550.00</td>\n      <td>1725.00</td>\n      <td>1492.00</td>\n      <td>1554.45</td>\n      <td>0.00</td>\n      <td>0.000000</td>\n      <td>0.00</td>\n      <td>0.000000</td>\n      <td>0.000000</td>\n      <td>0.00</td>\n      <td>0.00</td>\n      <td>0.000000</td>\n      <td>0.000000</td>\n      <td>0.000000</td>\n      <td>1</td>\n      <td>0.731974</td>\n      <td>0.000000</td>\n    </tr>\n    <tr>\n      <th>1</th>\n      <td>2000-01-12</td>\n      <td>1560.00</td>\n      <td>1678.85</td>\n      <td>1560.00</td>\n      <td>1678.85</td>\n      <td>0.00</td>\n      <td>0.000000</td>\n      <td>0.00</td>\n      <td>0.000000</td>\n      <td>0.000000</td>\n      <td>124.40</td>\n      <td>0.00</td>\n      <td>0.000000</td>\n      <td>1.984729</td>\n      <td>0.000000</td>\n      <td>1</td>\n      <td>0.000000</td>\n      <td>0.000000</td>\n    </tr>\n    <tr>\n      <th>2</th>\n      <td>2000-01-13</td>\n      <td>1790.00</td>\n      <td>1813.20</td>\n      <td>1781.00</td>\n      <td>1813.20</td>\n      <td>0.00</td>\n      <td>0.000000</td>\n      <td>0.00</td>\n      <td>0.000000</td>\n      <td>0.000000</td>\n      <td>134.35</td>\n      <td>0.00</td>\n      <td>0.000000</td>\n      <td>7.248358</td>\n      <td>0.000000</td>\n      <td>1</td>\n      <td>0.000000</td>\n      <td>0.000000</td>\n    </tr>\n    <tr>\n      <th>3</th>\n      <td>2000-01-14</td>\n      <td>1958.30</td>\n      <td>1958.30</td>\n      <td>1835.00</td>\n      <td>1958.30</td>\n      <td>0.00</td>\n      <td>0.000000</td>\n      <td>0.00</td>\n      <td>0.000000</td>\n      <td>0.000000</td>\n      <td>145.10</td>\n      <td>0.00</td>\n      <td>0.000000</td>\n      <td>16.589674</td>\n      <td>0.000000</td>\n      <td>-1</td>\n      <td>0.000000</td>\n      <td>0.000000</td>\n    </tr>\n    <tr>\n      <th>4</th>\n      <td>2000-01-17</td>\n      <td>2115.00</td>\n      <td>2115.00</td>\n      <td>1801.65</td>\n      <td>1801.65</td>\n      <td>1761.29</td>\n      <td>0.000000</td>\n      <td>0.00</td>\n      <td>0.000000</td>\n      <td>0.000000</td>\n      <td>0.00</td>\n      <td>156.65</td>\n      <td>0.000000</td>\n      <td>25.460049</td>\n      <td>0.000000</td>\n      <td>-1</td>\n      <td>1.000000</td>\n      <td>0.000000</td>\n    </tr>\n    <tr>\n      <th>...</th>\n      <td>...</td>\n      <td>...</td>\n      <td>...</td>\n      <td>...</td>\n      <td>...</td>\n      <td>...</td>\n      <td>...</td>\n      <td>...</td>\n      <td>...</td>\n      <td>...</td>\n      <td>...</td>\n      <td>...</td>\n      <td>...</td>\n      <td>...</td>\n      <td>...</td>\n      <td>...</td>\n      <td>...</td>\n      <td>...</td>\n    </tr>\n    <tr>\n      <th>5276</th>\n      <td>2021-03-24</td>\n      <td>971.05</td>\n      <td>984.75</td>\n      <td>965.80</td>\n      <td>975.65</td>\n      <td>968.69</td>\n      <td>684304.312381</td>\n      <td>-12.85</td>\n      <td>47.267760</td>\n      <td>50.291439</td>\n      <td>0.00</td>\n      <td>5.20</td>\n      <td>50.831117</td>\n      <td>6.870253</td>\n      <td>52.732240</td>\n      <td>-1</td>\n      <td>0.480211</td>\n      <td>-26.446266</td>\n    </tr>\n    <tr>\n      <th>5277</th>\n      <td>2021-03-25</td>\n      <td>970.00</td>\n      <td>974.50</td>\n      <td>950.00</td>\n      <td>957.05</td>\n      <td>970.55</td>\n      <td>684384.292381</td>\n      <td>-22.20</td>\n      <td>26.939891</td>\n      <td>42.386157</td>\n      <td>0.00</td>\n      <td>18.60</td>\n      <td>39.765701</td>\n      <td>6.660373</td>\n      <td>73.060109</td>\n      <td>1</td>\n      <td>0.712245</td>\n      <td>-84.057256</td>\n    </tr>\n    <tr>\n      <th>5278</th>\n      <td>2021-03-26</td>\n      <td>965.00</td>\n      <td>975.00</td>\n      <td>953.80</td>\n      <td>958.55</td>\n      <td>970.17</td>\n      <td>685367.034762</td>\n      <td>-33.80</td>\n      <td>28.579235</td>\n      <td>34.262295</td>\n      <td>1.50</td>\n      <td>0.00</td>\n      <td>42.906100</td>\n      <td>6.226152</td>\n      <td>71.420765</td>\n      <td>1</td>\n      <td>0.775943</td>\n      <td>-61.842740</td>\n    </tr>\n    <tr>\n      <th>5279</th>\n      <td>2021-03-30</td>\n      <td>965.00</td>\n      <td>1000.80</td>\n      <td>964.45</td>\n      <td>995.80</td>\n      <td>973.58</td>\n      <td>687199.973810</td>\n      <td>-11.45</td>\n      <td>69.289617</td>\n      <td>41.602914</td>\n      <td>37.25</td>\n      <td>0.00</td>\n      <td>51.014408</td>\n      <td>6.254193</td>\n      <td>30.710383</td>\n      <td>-1</td>\n      <td>0.137552</td>\n      <td>54.537129</td>\n    </tr>\n    <tr>\n      <th>5280</th>\n      <td>2021-03-31</td>\n      <td>1000.00</td>\n      <td>1000.00</td>\n      <td>978.65</td>\n      <td>982.65</td>\n      <td>973.94</td>\n      <td>687807.531905</td>\n      <td>-4.80</td>\n      <td>54.918033</td>\n      <td>50.928962</td>\n      <td>0.00</td>\n      <td>13.15</td>\n      <td>42.691622</td>\n      <td>6.346446</td>\n      <td>45.081967</td>\n      <td>-1</td>\n      <td>0.812646</td>\n      <td>73.344250</td>\n    </tr>\n  </tbody>\n</table>\n<p>5281 rows × 18 columns</p>\n</div>"
     },
     "metadata": {},
     "execution_count": 46
    }
   ],
   "source": [
    "df1=df1.apply(up)\n",
    "df['UP/DOWN']=df1\n",
    "df['UP/DOWN']\n",
    "df"
   ]
  },
  {
   "cell_type": "code",
   "execution_count": 47,
   "metadata": {},
   "outputs": [],
   "source": [
    "df.drop(columns=['U','D'],inplace=True)"
   ]
  },
  {
   "cell_type": "code",
   "execution_count": 48,
   "metadata": {},
   "outputs": [],
   "source": [
    "li=['5-DAY_SMA', '14-DAY_WMA',\n",
    "       'Momentum', 'Stochastic K%', 'Stochastic D%',\n",
    "       'Relative_strength_index', 'Signal(10)', 'Larry_William_R%', 'ADO',\n",
    "       'CCI']"
   ]
  },
  {
   "cell_type": "code",
   "execution_count": 49,
   "metadata": {},
   "outputs": [],
   "source": [
    "for i in li:\n",
    "    df[i]=(df[i]-df[i].min())/(df[i].max()-df[i].min())\n",
    " \n",
    "\n"
   ]
  },
  {
   "cell_type": "code",
   "execution_count": 50,
   "metadata": {},
   "outputs": [
    {
     "output_type": "stream",
     "name": "stderr",
     "text": [
      "C:\\Users\\Sashank\\anaconda3\\envs\\myenv\\lib\\site-packages\\ipykernel_launcher.py:1: SettingWithCopyWarning: \nA value is trying to be set on a copy of a slice from a DataFrame\n\nSee the caveats in the documentation: https://pandas.pydata.org/pandas-docs/stable/user_guide/indexing.html#returning-a-view-versus-a-copy\n  \"\"\"Entry point for launching an IPython kernel.\n"
     ]
    }
   ],
   "source": [
    "df['UP/DOWN'][5280]=1"
   ]
  },
  {
   "cell_type": "code",
   "execution_count": 51,
   "metadata": {},
   "outputs": [
    {
     "output_type": "execute_result",
     "data": {
      "text/plain": [
       "            Date     Open     High      Low    Close  5-DAY_SMA  14-DAY_WMA  \\\n",
       "0     2000-01-11  1550.00  1725.00  1492.00  1554.45   0.000000    0.000000   \n",
       "1     2000-01-12  1560.00  1678.85  1560.00  1678.85   0.000000    0.000000   \n",
       "2     2000-01-13  1790.00  1813.20  1781.00  1813.20   0.000000    0.000000   \n",
       "3     2000-01-14  1958.30  1958.30  1835.00  1958.30   0.000000    0.000000   \n",
       "4     2000-01-17  2115.00  2115.00  1801.65  1801.65   0.654322    0.000000   \n",
       "...          ...      ...      ...      ...      ...        ...         ...   \n",
       "5276  2021-03-24   971.05   984.75   965.80   975.65   0.359870    0.666019   \n",
       "5277  2021-03-25   970.00   974.50   950.00   957.05   0.360561    0.666097   \n",
       "5278  2021-03-26   965.00   975.00   953.80   958.55   0.360419    0.667053   \n",
       "5279  2021-03-30   965.00  1000.80   964.45   995.80   0.361686    0.668837   \n",
       "5280  2021-03-31  1000.00  1000.00   978.65   982.65   0.361820    0.669429   \n",
       "\n",
       "      Momentum  Stochastic K%  Stochastic D%  Relative_strength_index  \\\n",
       "0     0.571626       0.000000       0.000000                 0.000000   \n",
       "1     0.571626       0.000000       0.000000                 0.000000   \n",
       "2     0.571626       0.000000       0.000000                 0.000000   \n",
       "3     0.571626       0.000000       0.000000                 0.000000   \n",
       "4     0.571626       0.000000       0.000000                 0.000000   \n",
       "...        ...            ...            ...                      ...   \n",
       "5276  0.564913       0.472678       0.510985                 0.514048   \n",
       "5277  0.560028       0.269399       0.430664                 0.402145   \n",
       "5278  0.553968       0.285792       0.348121                 0.433904   \n",
       "5279  0.565644       0.692896       0.422706                 0.515902   \n",
       "5280  0.569119       0.549180       0.517463                 0.431735   \n",
       "\n",
       "      Signal(10)  Larry_William_R%  UP/DOWN       ADO       CCI  \n",
       "0       0.552149          0.000000        1  0.731974  0.511455  \n",
       "1       0.556722          0.000000        1  0.000000  0.511455  \n",
       "2       0.568848          0.000000        1  0.000000  0.511455  \n",
       "3       0.590368          0.000000       -1  0.000000  0.511455  \n",
       "4       0.610804          0.000000       -1  1.000000  0.511455  \n",
       "...          ...               ...      ...       ...       ...  \n",
       "5276    0.567977          0.527322       -1  0.480211  0.470877  \n",
       "5277    0.567493          0.730601        1  0.712245  0.382481  \n",
       "5278    0.566493          0.714208        1  0.775943  0.416566  \n",
       "5279    0.566558          0.307104       -1  0.137552  0.595135  \n",
       "5280    0.566770          0.450820        1  0.812646  0.623992  \n",
       "\n",
       "[5281 rows x 16 columns]"
      ],
      "text/html": "<div>\n<style scoped>\n    .dataframe tbody tr th:only-of-type {\n        vertical-align: middle;\n    }\n\n    .dataframe tbody tr th {\n        vertical-align: top;\n    }\n\n    .dataframe thead th {\n        text-align: right;\n    }\n</style>\n<table border=\"1\" class=\"dataframe\">\n  <thead>\n    <tr style=\"text-align: right;\">\n      <th></th>\n      <th>Date</th>\n      <th>Open</th>\n      <th>High</th>\n      <th>Low</th>\n      <th>Close</th>\n      <th>5-DAY_SMA</th>\n      <th>14-DAY_WMA</th>\n      <th>Momentum</th>\n      <th>Stochastic K%</th>\n      <th>Stochastic D%</th>\n      <th>Relative_strength_index</th>\n      <th>Signal(10)</th>\n      <th>Larry_William_R%</th>\n      <th>UP/DOWN</th>\n      <th>ADO</th>\n      <th>CCI</th>\n    </tr>\n  </thead>\n  <tbody>\n    <tr>\n      <th>0</th>\n      <td>2000-01-11</td>\n      <td>1550.00</td>\n      <td>1725.00</td>\n      <td>1492.00</td>\n      <td>1554.45</td>\n      <td>0.000000</td>\n      <td>0.000000</td>\n      <td>0.571626</td>\n      <td>0.000000</td>\n      <td>0.000000</td>\n      <td>0.000000</td>\n      <td>0.552149</td>\n      <td>0.000000</td>\n      <td>1</td>\n      <td>0.731974</td>\n      <td>0.511455</td>\n    </tr>\n    <tr>\n      <th>1</th>\n      <td>2000-01-12</td>\n      <td>1560.00</td>\n      <td>1678.85</td>\n      <td>1560.00</td>\n      <td>1678.85</td>\n      <td>0.000000</td>\n      <td>0.000000</td>\n      <td>0.571626</td>\n      <td>0.000000</td>\n      <td>0.000000</td>\n      <td>0.000000</td>\n      <td>0.556722</td>\n      <td>0.000000</td>\n      <td>1</td>\n      <td>0.000000</td>\n      <td>0.511455</td>\n    </tr>\n    <tr>\n      <th>2</th>\n      <td>2000-01-13</td>\n      <td>1790.00</td>\n      <td>1813.20</td>\n      <td>1781.00</td>\n      <td>1813.20</td>\n      <td>0.000000</td>\n      <td>0.000000</td>\n      <td>0.571626</td>\n      <td>0.000000</td>\n      <td>0.000000</td>\n      <td>0.000000</td>\n      <td>0.568848</td>\n      <td>0.000000</td>\n      <td>1</td>\n      <td>0.000000</td>\n      <td>0.511455</td>\n    </tr>\n    <tr>\n      <th>3</th>\n      <td>2000-01-14</td>\n      <td>1958.30</td>\n      <td>1958.30</td>\n      <td>1835.00</td>\n      <td>1958.30</td>\n      <td>0.000000</td>\n      <td>0.000000</td>\n      <td>0.571626</td>\n      <td>0.000000</td>\n      <td>0.000000</td>\n      <td>0.000000</td>\n      <td>0.590368</td>\n      <td>0.000000</td>\n      <td>-1</td>\n      <td>0.000000</td>\n      <td>0.511455</td>\n    </tr>\n    <tr>\n      <th>4</th>\n      <td>2000-01-17</td>\n      <td>2115.00</td>\n      <td>2115.00</td>\n      <td>1801.65</td>\n      <td>1801.65</td>\n      <td>0.654322</td>\n      <td>0.000000</td>\n      <td>0.571626</td>\n      <td>0.000000</td>\n      <td>0.000000</td>\n      <td>0.000000</td>\n      <td>0.610804</td>\n      <td>0.000000</td>\n      <td>-1</td>\n      <td>1.000000</td>\n      <td>0.511455</td>\n    </tr>\n    <tr>\n      <th>...</th>\n      <td>...</td>\n      <td>...</td>\n      <td>...</td>\n      <td>...</td>\n      <td>...</td>\n      <td>...</td>\n      <td>...</td>\n      <td>...</td>\n      <td>...</td>\n      <td>...</td>\n      <td>...</td>\n      <td>...</td>\n      <td>...</td>\n      <td>...</td>\n      <td>...</td>\n      <td>...</td>\n    </tr>\n    <tr>\n      <th>5276</th>\n      <td>2021-03-24</td>\n      <td>971.05</td>\n      <td>984.75</td>\n      <td>965.80</td>\n      <td>975.65</td>\n      <td>0.359870</td>\n      <td>0.666019</td>\n      <td>0.564913</td>\n      <td>0.472678</td>\n      <td>0.510985</td>\n      <td>0.514048</td>\n      <td>0.567977</td>\n      <td>0.527322</td>\n      <td>-1</td>\n      <td>0.480211</td>\n      <td>0.470877</td>\n    </tr>\n    <tr>\n      <th>5277</th>\n      <td>2021-03-25</td>\n      <td>970.00</td>\n      <td>974.50</td>\n      <td>950.00</td>\n      <td>957.05</td>\n      <td>0.360561</td>\n      <td>0.666097</td>\n      <td>0.560028</td>\n      <td>0.269399</td>\n      <td>0.430664</td>\n      <td>0.402145</td>\n      <td>0.567493</td>\n      <td>0.730601</td>\n      <td>1</td>\n      <td>0.712245</td>\n      <td>0.382481</td>\n    </tr>\n    <tr>\n      <th>5278</th>\n      <td>2021-03-26</td>\n      <td>965.00</td>\n      <td>975.00</td>\n      <td>953.80</td>\n      <td>958.55</td>\n      <td>0.360419</td>\n      <td>0.667053</td>\n      <td>0.553968</td>\n      <td>0.285792</td>\n      <td>0.348121</td>\n      <td>0.433904</td>\n      <td>0.566493</td>\n      <td>0.714208</td>\n      <td>1</td>\n      <td>0.775943</td>\n      <td>0.416566</td>\n    </tr>\n    <tr>\n      <th>5279</th>\n      <td>2021-03-30</td>\n      <td>965.00</td>\n      <td>1000.80</td>\n      <td>964.45</td>\n      <td>995.80</td>\n      <td>0.361686</td>\n      <td>0.668837</td>\n      <td>0.565644</td>\n      <td>0.692896</td>\n      <td>0.422706</td>\n      <td>0.515902</td>\n      <td>0.566558</td>\n      <td>0.307104</td>\n      <td>-1</td>\n      <td>0.137552</td>\n      <td>0.595135</td>\n    </tr>\n    <tr>\n      <th>5280</th>\n      <td>2021-03-31</td>\n      <td>1000.00</td>\n      <td>1000.00</td>\n      <td>978.65</td>\n      <td>982.65</td>\n      <td>0.361820</td>\n      <td>0.669429</td>\n      <td>0.569119</td>\n      <td>0.549180</td>\n      <td>0.517463</td>\n      <td>0.431735</td>\n      <td>0.566770</td>\n      <td>0.450820</td>\n      <td>1</td>\n      <td>0.812646</td>\n      <td>0.623992</td>\n    </tr>\n  </tbody>\n</table>\n<p>5281 rows × 16 columns</p>\n</div>"
     },
     "metadata": {},
     "execution_count": 51
    }
   ],
   "source": [
    "df"
   ]
  },
  {
   "cell_type": "code",
   "execution_count": 52,
   "metadata": {},
   "outputs": [],
   "source": [
    "y=df['UP/DOWN']"
   ]
  },
  {
   "cell_type": "code",
   "execution_count": 53,
   "metadata": {},
   "outputs": [],
   "source": [
    "df.drop(columns=['Open','High','Low','Close','Date','UP/DOWN'],inplace=True)"
   ]
  },
  {
   "cell_type": "code",
   "execution_count": 54,
   "metadata": {},
   "outputs": [],
   "source": [
    "X=df"
   ]
  },
  {
   "cell_type": "code",
   "execution_count": 55,
   "metadata": {},
   "outputs": [
    {
     "output_type": "execute_result",
     "data": {
      "text/plain": [
       "      5-DAY_SMA  14-DAY_WMA  Momentum  Stochastic K%  Stochastic D%  \\\n",
       "0      0.000000    0.000000  0.571626       0.000000       0.000000   \n",
       "1      0.000000    0.000000  0.571626       0.000000       0.000000   \n",
       "2      0.000000    0.000000  0.571626       0.000000       0.000000   \n",
       "3      0.000000    0.000000  0.571626       0.000000       0.000000   \n",
       "4      0.654322    0.000000  0.571626       0.000000       0.000000   \n",
       "...         ...         ...       ...            ...            ...   \n",
       "5276   0.359870    0.666019  0.564913       0.472678       0.510985   \n",
       "5277   0.360561    0.666097  0.560028       0.269399       0.430664   \n",
       "5278   0.360419    0.667053  0.553968       0.285792       0.348121   \n",
       "5279   0.361686    0.668837  0.565644       0.692896       0.422706   \n",
       "5280   0.361820    0.669429  0.569119       0.549180       0.517463   \n",
       "\n",
       "      Relative_strength_index  Signal(10)  Larry_William_R%       ADO  \\\n",
       "0                    0.000000    0.552149          0.000000  0.731974   \n",
       "1                    0.000000    0.556722          0.000000  0.000000   \n",
       "2                    0.000000    0.568848          0.000000  0.000000   \n",
       "3                    0.000000    0.590368          0.000000  0.000000   \n",
       "4                    0.000000    0.610804          0.000000  1.000000   \n",
       "...                       ...         ...               ...       ...   \n",
       "5276                 0.514048    0.567977          0.527322  0.480211   \n",
       "5277                 0.402145    0.567493          0.730601  0.712245   \n",
       "5278                 0.433904    0.566493          0.714208  0.775943   \n",
       "5279                 0.515902    0.566558          0.307104  0.137552   \n",
       "5280                 0.431735    0.566770          0.450820  0.812646   \n",
       "\n",
       "           CCI  \n",
       "0     0.511455  \n",
       "1     0.511455  \n",
       "2     0.511455  \n",
       "3     0.511455  \n",
       "4     0.511455  \n",
       "...        ...  \n",
       "5276  0.470877  \n",
       "5277  0.382481  \n",
       "5278  0.416566  \n",
       "5279  0.595135  \n",
       "5280  0.623992  \n",
       "\n",
       "[5281 rows x 10 columns]"
      ],
      "text/html": "<div>\n<style scoped>\n    .dataframe tbody tr th:only-of-type {\n        vertical-align: middle;\n    }\n\n    .dataframe tbody tr th {\n        vertical-align: top;\n    }\n\n    .dataframe thead th {\n        text-align: right;\n    }\n</style>\n<table border=\"1\" class=\"dataframe\">\n  <thead>\n    <tr style=\"text-align: right;\">\n      <th></th>\n      <th>5-DAY_SMA</th>\n      <th>14-DAY_WMA</th>\n      <th>Momentum</th>\n      <th>Stochastic K%</th>\n      <th>Stochastic D%</th>\n      <th>Relative_strength_index</th>\n      <th>Signal(10)</th>\n      <th>Larry_William_R%</th>\n      <th>ADO</th>\n      <th>CCI</th>\n    </tr>\n  </thead>\n  <tbody>\n    <tr>\n      <th>0</th>\n      <td>0.000000</td>\n      <td>0.000000</td>\n      <td>0.571626</td>\n      <td>0.000000</td>\n      <td>0.000000</td>\n      <td>0.000000</td>\n      <td>0.552149</td>\n      <td>0.000000</td>\n      <td>0.731974</td>\n      <td>0.511455</td>\n    </tr>\n    <tr>\n      <th>1</th>\n      <td>0.000000</td>\n      <td>0.000000</td>\n      <td>0.571626</td>\n      <td>0.000000</td>\n      <td>0.000000</td>\n      <td>0.000000</td>\n      <td>0.556722</td>\n      <td>0.000000</td>\n      <td>0.000000</td>\n      <td>0.511455</td>\n    </tr>\n    <tr>\n      <th>2</th>\n      <td>0.000000</td>\n      <td>0.000000</td>\n      <td>0.571626</td>\n      <td>0.000000</td>\n      <td>0.000000</td>\n      <td>0.000000</td>\n      <td>0.568848</td>\n      <td>0.000000</td>\n      <td>0.000000</td>\n      <td>0.511455</td>\n    </tr>\n    <tr>\n      <th>3</th>\n      <td>0.000000</td>\n      <td>0.000000</td>\n      <td>0.571626</td>\n      <td>0.000000</td>\n      <td>0.000000</td>\n      <td>0.000000</td>\n      <td>0.590368</td>\n      <td>0.000000</td>\n      <td>0.000000</td>\n      <td>0.511455</td>\n    </tr>\n    <tr>\n      <th>4</th>\n      <td>0.654322</td>\n      <td>0.000000</td>\n      <td>0.571626</td>\n      <td>0.000000</td>\n      <td>0.000000</td>\n      <td>0.000000</td>\n      <td>0.610804</td>\n      <td>0.000000</td>\n      <td>1.000000</td>\n      <td>0.511455</td>\n    </tr>\n    <tr>\n      <th>...</th>\n      <td>...</td>\n      <td>...</td>\n      <td>...</td>\n      <td>...</td>\n      <td>...</td>\n      <td>...</td>\n      <td>...</td>\n      <td>...</td>\n      <td>...</td>\n      <td>...</td>\n    </tr>\n    <tr>\n      <th>5276</th>\n      <td>0.359870</td>\n      <td>0.666019</td>\n      <td>0.564913</td>\n      <td>0.472678</td>\n      <td>0.510985</td>\n      <td>0.514048</td>\n      <td>0.567977</td>\n      <td>0.527322</td>\n      <td>0.480211</td>\n      <td>0.470877</td>\n    </tr>\n    <tr>\n      <th>5277</th>\n      <td>0.360561</td>\n      <td>0.666097</td>\n      <td>0.560028</td>\n      <td>0.269399</td>\n      <td>0.430664</td>\n      <td>0.402145</td>\n      <td>0.567493</td>\n      <td>0.730601</td>\n      <td>0.712245</td>\n      <td>0.382481</td>\n    </tr>\n    <tr>\n      <th>5278</th>\n      <td>0.360419</td>\n      <td>0.667053</td>\n      <td>0.553968</td>\n      <td>0.285792</td>\n      <td>0.348121</td>\n      <td>0.433904</td>\n      <td>0.566493</td>\n      <td>0.714208</td>\n      <td>0.775943</td>\n      <td>0.416566</td>\n    </tr>\n    <tr>\n      <th>5279</th>\n      <td>0.361686</td>\n      <td>0.668837</td>\n      <td>0.565644</td>\n      <td>0.692896</td>\n      <td>0.422706</td>\n      <td>0.515902</td>\n      <td>0.566558</td>\n      <td>0.307104</td>\n      <td>0.137552</td>\n      <td>0.595135</td>\n    </tr>\n    <tr>\n      <th>5280</th>\n      <td>0.361820</td>\n      <td>0.669429</td>\n      <td>0.569119</td>\n      <td>0.549180</td>\n      <td>0.517463</td>\n      <td>0.431735</td>\n      <td>0.566770</td>\n      <td>0.450820</td>\n      <td>0.812646</td>\n      <td>0.623992</td>\n    </tr>\n  </tbody>\n</table>\n<p>5281 rows × 10 columns</p>\n</div>"
     },
     "metadata": {},
     "execution_count": 55
    }
   ],
   "source": [
    "X"
   ]
  },
  {
   "cell_type": "code",
   "execution_count": 56,
   "metadata": {},
   "outputs": [
    {
     "output_type": "execute_result",
     "data": {
      "text/plain": [
       "0       1\n",
       "1       1\n",
       "2       1\n",
       "3      -1\n",
       "4      -1\n",
       "       ..\n",
       "5276   -1\n",
       "5277    1\n",
       "5278    1\n",
       "5279   -1\n",
       "5280    1\n",
       "Name: UP/DOWN, Length: 5281, dtype: int64"
      ]
     },
     "metadata": {},
     "execution_count": 56
    }
   ],
   "source": [
    "y"
   ]
  },
  {
   "cell_type": "code",
   "execution_count": 57,
   "metadata": {},
   "outputs": [],
   "source": [
    "from sklearn.model_selection import train_test_split"
   ]
  },
  {
   "cell_type": "code",
   "execution_count": 58,
   "metadata": {},
   "outputs": [],
   "source": [
    " #splliting the dataset \n",
    " X_train, X_test, y_train, y_test = train_test_split(X, y, test_size=0.3, random_state=1)"
   ]
  },
  {
   "source": [
    "DECISION TREES"
   ],
   "cell_type": "markdown",
   "metadata": {}
  },
  {
   "cell_type": "code",
   "execution_count": 59,
   "metadata": {},
   "outputs": [],
   "source": [
    "from sklearn.tree import DecisionTreeClassifier\n",
    "regressor = DecisionTreeClassifier(random_state = 0) \n",
    "regressor.fit(X_train, y_train)\n",
    "prediction = regressor.predict(X_test)\n"
   ]
  },
  {
   "cell_type": "code",
   "execution_count": 60,
   "metadata": {},
   "outputs": [
    {
     "output_type": "stream",
     "name": "stdout",
     "text": [
      "Accuracy: 0.5293375394321767\nF1 score: 0.5596221959858323\nROC-AUC score: 0.5272329042019823\n"
     ]
    }
   ],
   "source": [
    "from sklearn.metrics import accuracy_score, f1_score,roc_auc_score\n",
    "print('Accuracy:', accuracy_score(y_test, prediction))\n",
    "print ('F1 score:', f1_score(y_test, prediction))\n",
    "print ('ROC-AUC score:', roc_auc_score(y_test, prediction))"
   ]
  },
  {
   "source": [
    "RANDOM FOREST"
   ],
   "cell_type": "markdown",
   "metadata": {}
  },
  {
   "cell_type": "code",
   "execution_count": 61,
   "metadata": {},
   "outputs": [],
   "source": [
    "from sklearn.ensemble import RandomForestClassifier\n",
    "clf = RandomForestClassifier(max_depth=10,n_estimators=200) \n",
    "clf.fit(X_train, y_train)\n",
    "prediction_radndomforest = clf.predict(X_test)"
   ]
  },
  {
   "cell_type": "code",
   "execution_count": 62,
   "metadata": {},
   "outputs": [
    {
     "output_type": "stream",
     "name": "stdout",
     "text": [
      "Accuracy: 0.5242902208201893\nF1 score: 0.5595794392523364\nROC-AUC score: 0.5212214856322207\n"
     ]
    }
   ],
   "source": [
    "print('Accuracy:', accuracy_score(y_test, prediction_radndomforest))\n",
    "print ('F1 score:', f1_score(y_test, prediction_radndomforest))\n",
    "print ('ROC-AUC score:', roc_auc_score(y_test, prediction_radndomforest))"
   ]
  },
  {
   "source": [
    "AdaBoostClassifier"
   ],
   "cell_type": "markdown",
   "metadata": {}
  },
  {
   "cell_type": "code",
   "execution_count": 63,
   "metadata": {},
   "outputs": [
    {
     "output_type": "stream",
     "name": "stdout",
     "text": [
      "[ 1  1  1 ...  1 -1  1]\nAccuracy: 0.5110410094637224\nF1 score: 0.5378652355396543\nROC-AUC score: 0.5096931219305783\n"
     ]
    }
   ],
   "source": [
    "from sklearn.ensemble import AdaBoostClassifier\n",
    "clf1 = AdaBoostClassifier(n_estimators=200) \n",
    "clf1.fit(X_train, y_train)\n",
    "prediction_AdaBoostClassifier = clf1.predict(X_test)\n",
    "print(prediction_AdaBoostClassifier)\n",
    "print('Accuracy:', accuracy_score(y_test, prediction_AdaBoostClassifier))\n",
    "print ('F1 score:', f1_score(y_test, prediction_AdaBoostClassifier,average='binary'))\n",
    "print ('ROC-AUC score:', roc_auc_score(y_test, prediction_AdaBoostClassifier))"
   ]
  },
  {
   "source": [
    "XGBoost"
   ],
   "cell_type": "markdown",
   "metadata": {}
  },
  {
   "cell_type": "code",
   "execution_count": 64,
   "metadata": {},
   "outputs": [
    {
     "output_type": "stream",
     "name": "stderr",
     "text": [
      "C:\\Users\\Sashank\\anaconda3\\envs\\myenv\\lib\\site-packages\\xgboost\\sklearn.py:1146: UserWarning: The use of label encoder in XGBClassifier is deprecated and will be removed in a future release. To remove this warning, do the following: 1) Pass option use_label_encoder=False when constructing XGBClassifier object; and 2) Encode your labels (y) as integers starting with 0, i.e. 0, 1, 2, ..., [num_class - 1].\n",
      "  warnings.warn(label_encoder_deprecation_msg, UserWarning)\n",
      "[15:19:53] WARNING: C:/Users/Administrator/workspace/xgboost-win64_release_1.4.0/src/learner.cc:1095: Starting in XGBoost 1.3.0, the default evaluation metric used with the objective 'binary:logistic' was changed from 'error' to 'logloss'. Explicitly set eval_metric if you'd like to restore the old behavior.\n",
      "Accuracy: 0.5110410094637224\n",
      "F1 score: 0.5378652355396543\n",
      "ROC-AUC score: 0.5096931219305783\n",
      "C:\\Users\\Sashank\\anaconda3\\envs\\myenv\\lib\\site-packages\\xgboost\\data.py:114: UserWarning: Use subset (sliced data) of np.ndarray is not recommended because it will generate extra copies and increase memory consumption\n",
      "  \"because it will generate extra copies and increase \" +\n"
     ]
    }
   ],
   "source": [
    "import xgboost as xgb\n",
    "model=xgb.XGBClassifier(random_state=1,learning_rate=0.01)\n",
    "model.fit(X_train, y_train)\n",
    "prediction_xgb=model.predict(X_test)\n",
    "print('Accuracy:', accuracy_score(y_test, prediction_AdaBoostClassifier))\n",
    "print ('F1 score:', f1_score(y_test, prediction_AdaBoostClassifier,average='binary'))\n",
    "print ('ROC-AUC score:', roc_auc_score(y_test, prediction_AdaBoostClassifier))"
   ]
  },
  {
   "source": [
    "KNeighborsClassifier"
   ],
   "cell_type": "markdown",
   "metadata": {}
  },
  {
   "cell_type": "code",
   "execution_count": 65,
   "metadata": {},
   "outputs": [
    {
     "output_type": "stream",
     "name": "stdout",
     "text": [
      "Accuracy: 0.5110410094637224\nF1 score: 0.5322872661436331\nROC-AUC score: 0.5107269480810904\n"
     ]
    }
   ],
   "source": [
    "from sklearn.neighbors import KNeighborsClassifier\n",
    "model = KNeighborsClassifier(n_neighbors=7)\n",
    "model.fit(X_train,y_train)\n",
    "predicted_K= model.predict(X_test) \n",
    "print('Accuracy:', accuracy_score(y_test, predicted_K))\n",
    "print ('F1 score:', f1_score(y_test, predicted_K))\n",
    "print ('ROC-AUC score:', roc_auc_score(y_test, predicted_K))\n"
   ]
  },
  {
   "source": [
    "LogisticRegression"
   ],
   "cell_type": "markdown",
   "metadata": {}
  },
  {
   "cell_type": "code",
   "execution_count": 66,
   "metadata": {},
   "outputs": [
    {
     "output_type": "stream",
     "name": "stdout",
     "text": [
      "Accuracy: 0.5381703470031546\nF1 score: 0.5788262370540851\nROC-AUC score: 0.5338501929808814\n"
     ]
    }
   ],
   "source": [
    "from sklearn.linear_model import LogisticRegression\n",
    "model=LogisticRegression()\n",
    "model.fit(X_train,y_train)\n",
    "predicted_LogisticRegression= model.predict(X_test)\n",
    "print('Accuracy:', accuracy_score(y_test, predicted_LogisticRegression))\n",
    "print ('F1 score:', f1_score(y_test, predicted_LogisticRegression))\n",
    "print ('ROC-AUC score:', roc_auc_score(y_test, predicted_LogisticRegression))\n",
    "\n"
   ]
  },
  {
   "cell_type": "code",
   "execution_count": null,
   "metadata": {},
   "outputs": [],
   "source": []
  }
 ]
}